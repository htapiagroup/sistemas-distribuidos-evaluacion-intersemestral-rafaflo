{
  "nbformat": 4,
  "nbformat_minor": 0,
  "metadata": {
    "colab": {
      "name": "examen_medio_sd2.ipynb",
      "version": "0.3.2",
      "provenance": [],
      "include_colab_link": true
    },
    "kernelspec": {
      "name": "python3",
      "display_name": "Python 3"
    },
    "accelerator": "TPU"
  },
  "cells": [
    {
      "cell_type": "markdown",
      "metadata": {
        "id": "view-in-github",
        "colab_type": "text"
      },
      "source": [
        "<a href=\"https://colab.research.google.com/github/htapiagroup/sistemas-distribuidos-evaluacion-intersemestral-rafaflo/blob/master/examen_medio_sd2.ipynb\" target=\"_parent\"><img src=\"https://colab.research.google.com/assets/colab-badge.svg\" alt=\"Open In Colab\"/></a>"
      ]
    },
    {
      "cell_type": "markdown",
      "metadata": {
        "id": "oaUnS1-YTSDX",
        "colab_type": "text"
      },
      "source": [
        "#Luis Rafael Flores Castelán\n",
        "Examen medio termino \n",
        "##Sistemas Distribuidos 2"
      ]
    },
    {
      "cell_type": "markdown",
      "metadata": {
        "id": "zOzjirTkTlsa",
        "colab_type": "text"
      },
      "source": [
        "#Pregunta1\n",
        "#Se descarga en el drive de google el archivo zip"
      ]
    },
    {
      "cell_type": "code",
      "metadata": {
        "id": "IOsRaboBZ-H-",
        "colab_type": "code",
        "colab": {}
      },
      "source": [
        "import pandas as pd\n",
        "import psutil, os"
      ],
      "execution_count": 0,
      "outputs": []
    },
    {
      "cell_type": "code",
      "metadata": {
        "id": "kZTdn2TkfsHD",
        "colab_type": "code",
        "colab": {}
      },
      "source": [
        "from dask import delayed\n",
        "import numpy as np"
      ],
      "execution_count": 0,
      "outputs": []
    },
    {
      "cell_type": "code",
      "metadata": {
        "id": "0AwbnQemNsDa",
        "colab_type": "code",
        "outputId": "3ef5fb0d-6653-4ee0-8a87-74b7b1505805",
        "colab": {
          "base_uri": "https://localhost:8080/",
          "height": 122
        }
      },
      "source": [
        "from google.colab import drive\n",
        "drive.mount('/content/gdrive')"
      ],
      "execution_count": 0,
      "outputs": [
        {
          "output_type": "stream",
          "text": [
            "Go to this URL in a browser: https://accounts.google.com/o/oauth2/auth?client_id=947318989803-6bn6qk8qdgf4n4g3pfee6491hc0brc4i.apps.googleusercontent.com&redirect_uri=urn%3Aietf%3Awg%3Aoauth%3A2.0%3Aoob&scope=email%20https%3A%2F%2Fwww.googleapis.com%2Fauth%2Fdocs.test%20https%3A%2F%2Fwww.googleapis.com%2Fauth%2Fdrive%20https%3A%2F%2Fwww.googleapis.com%2Fauth%2Fdrive.photos.readonly%20https%3A%2F%2Fwww.googleapis.com%2Fauth%2Fpeopleapi.readonly&response_type=code\n",
            "\n",
            "Enter your authorization code:\n",
            "··········\n",
            "Mounted at /content/gdrive\n"
          ],
          "name": "stdout"
        }
      ]
    },
    {
      "cell_type": "code",
      "metadata": {
        "id": "toRZ0U-3N0bc",
        "colab_type": "code",
        "outputId": "83e8d5c9-b07f-40f0-f878-fa8eaab6a9dd",
        "colab": {
          "base_uri": "https://localhost:8080/",
          "height": 34
        }
      },
      "source": [
        "cd gdrive/My\\ Drive/'Colab Notebooks'"
      ],
      "execution_count": 0,
      "outputs": [
        {
          "output_type": "stream",
          "text": [
            "/content/gdrive/My Drive/Colab Notebooks\n"
          ],
          "name": "stdout"
        }
      ]
    },
    {
      "cell_type": "code",
      "metadata": {
        "id": "9ynmKIUjN8ZL",
        "colab_type": "code",
        "outputId": "ec9c9873-384b-4159-aa49-fa8efd4caade",
        "colab": {
          "base_uri": "https://localhost:8080/",
          "height": 190
        }
      },
      "source": [
        "!7z l ./trip_data.7z"
      ],
      "execution_count": 0,
      "outputs": [
        {
          "output_type": "stream",
          "text": [
            "\n",
            "7-Zip [64] 16.02 : Copyright (c) 1999-2016 Igor Pavlov : 2016-05-21\n",
            "p7zip Version 16.02 (locale=en_US.UTF-8,Utf16=on,HugeFiles=on,64 bits,2 CPUs Intel(R) Xeon(R) CPU @ 2.20GHz (406F0),ASM,AES-NI)\n",
            "\n",
            "Scanning the drive for archives:\n",
            "  0M Scan /content/gdrive/My Drive/Colab Notebooks/\b\b\b\b\b\b\b\b\b\b\b\b\b\b\b\b\b\b\b\b\b\b\b\b\b\b\b\b\b\b\b\b\b\b\b\b\b\b\b\b\b\b\b\b\b\b\b\b\b\b\b                                                   \b\b\b\b\b\b\b\b\b\b\b\b\b\b\b\b\b\b\b\b\b\b\b\b\b\b\b\b\b\b\b\b\b\b\b\b\b\b\b\b\b\b\b\b\b\b\b\b\b\b\b\n",
            "\n",
            "Command Line Error:\n",
            "Cannot find archive\n"
          ],
          "name": "stdout"
        }
      ]
    },
    {
      "cell_type": "markdown",
      "metadata": {
        "id": "up8AucVhWQb8",
        "colab_type": "text"
      },
      "source": [
        "## Se ve que contiene el archivo .zip\n"
      ]
    },
    {
      "cell_type": "code",
      "metadata": {
        "id": "HnOuNnCEPJqA",
        "colab_type": "code",
        "outputId": "c2bf7279-202a-4914-a1ef-35e1a2a7cc89",
        "colab": {
          "base_uri": "https://localhost:8080/",
          "height": 615
        }
      },
      "source": [
        "!7z l ./trip_data.7z"
      ],
      "execution_count": 0,
      "outputs": [
        {
          "output_type": "stream",
          "text": [
            "\n",
            "7-Zip [64] 16.02 : Copyright (c) 1999-2016 Igor Pavlov : 2016-05-21\n",
            "p7zip Version 16.02 (locale=en_US.UTF-8,Utf16=on,HugeFiles=on,64 bits,2 CPUs Intel(R) Xeon(R) CPU @ 2.20GHz (406F0),ASM,AES-NI)\n",
            "\n",
            "Scanning the drive for archives:\n",
            "  0M Scan ./\b\b\b\b\b\b\b\b\b\b\b\b            \b\b\b\b\b\b\b\b\b\b\b\b1 file, 4102781969 bytes (3913 MiB)\n",
            "\n",
            "Listing archive: ./trip_data.7z\n",
            "\n",
            "--\n",
            "Path = ./trip_data.7z\n",
            "Type = 7z\n",
            "Physical Size = 4102781969\n",
            "Headers Size = 433\n",
            "Method = LZMA:24\n",
            "Solid = -\n",
            "Blocks = 12\n",
            "\n",
            "   Date      Time    Attr         Size   Compressed  Name\n",
            "------------------- ----- ------------ ------------  ------------------------\n",
            "2014-05-12 22:02:53 ....A   2459600863    345687208  trip_data_1.csv\n",
            "2014-01-15 06:55:32 ....A   2502278613    358624764  trip_data_10.csv\n",
            "2014-01-15 07:34:24 ....A   2395449056    342987617  trip_data_11.csv\n",
            "2014-01-15 08:09:28 ....A   2327237611    331056148  trip_data_12.csv\n",
            "2014-05-12 22:08:09 ....A   2328673265    327374725  trip_data_2.csv\n",
            "2013-08-26 02:19:46 ....A   2622301287    371026139  trip_data_3.csv\n",
            "2013-08-26 02:53:34 ....A   2515040578    361556239  trip_data_4.csv\n",
            "2013-08-26 03:27:40 ....A   2545680024    358447730  trip_data_5.csv\n",
            "2013-08-26 03:59:30 ....A   2396133818    341464743  trip_data_6.csv\n",
            "2014-01-15 05:01:12 ....A   2303297474    324785999  trip_data_7.csv\n",
            "2014-01-15 05:35:12 ....A   2100978620    300295410  trip_data_8.csv\n",
            "2014-01-15 06:13:50 ....A   2353003850    339474814  trip_data_9.csv\n",
            "------------------- ----- ------------ ------------  ------------------------\n",
            "2014-05-12 22:08:09        28849675059   4102781536  12 files\n"
          ],
          "name": "stdout"
        }
      ]
    },
    {
      "cell_type": "markdown",
      "metadata": {
        "id": "0POT80LXS88k",
        "colab_type": "text"
      },
      "source": [
        "#Pregunta 2:\n",
        "## Se descomprime un archivo de los cvs que contiene  el zip."
      ]
    },
    {
      "cell_type": "code",
      "metadata": {
        "id": "6citBtSUQCjo",
        "colab_type": "code",
        "outputId": "c7c8778d-c725-436a-8838-ae0f0fef64c9",
        "colab": {
          "base_uri": "https://localhost:8080/",
          "height": 394
        }
      },
      "source": [
        "!7z e ./trip_data.7z -o./Data trip_data_1.csv"
      ],
      "execution_count": 0,
      "outputs": [
        {
          "output_type": "stream",
          "text": [
            "\n",
            "7-Zip [64] 16.02 : Copyright (c) 1999-2016 Igor Pavlov : 2016-05-21\n",
            "p7zip Version 16.02 (locale=en_US.UTF-8,Utf16=on,HugeFiles=on,64 bits,2 CPUs Intel(R) Xeon(R) CPU @ 2.20GHz (406F0),ASM,AES-NI)\n",
            "\n",
            "Scanning the drive for archives:\n",
            "  0M Scan ./\b\b\b\b\b\b\b\b\b\b\b\b            \b\b\b\b\b\b\b\b\b\b\b\b1 file, 4102781969 bytes (3913 MiB)\n",
            "\n",
            "Extracting archive: ./trip_data.7z\n",
            "--\n",
            "Path = ./trip_data.7z\n",
            "Type = 7z\n",
            "Physical Size = 4102781969\n",
            "Headers Size = 433\n",
            "Method = LZMA:24\n",
            "Solid = -\n",
            "Blocks = 12\n",
            "\n",
            "  0%\b\b\b\b    \b\b\b\b  0% - trip_data_2.csv\b\b\b\b\b\b\b\b\b\b\b\b\b\b\b\b\b\b\b\b\b\b                      \b\b\b\b\b\b\b\b\b\b\b\b\b\b\b\b\b\b\b\b\b\b  1% - trip_data_2.csv\b\b\b\b\b\b\b\b\b\b\b\b\b\b\b\b\b\b\b\b\b\b                      \b\b\b\b\b\b\b\b\b\b\b\b\b\b\b\b\b\b\b\b\b\b  2% - trip_data_2.csv\b\b\b\b\b\b\b\b\b\b\b\b\b\b\b\b\b\b\b\b\b\b                      \b\b\b\b\b\b\b\b\b\b\b\b\b\b\b\b\b\b\b\b\b\b  3% - trip_data_2.csv\b\b\b\b\b\b\b\b\b\b\b\b\b\b\b\b\b\b\b\b\b\b                      \b\b\b\b\b\b\b\b\b\b\b\b\b\b\b\b\b\b\b\b\b\b  4% - trip_data_2.csv\b\b\b\b\b\b\b\b\b\b\b\b\b\b\b\b\b\b\b\b\b\b                      \b\b\b\b\b\b\b\b\b\b\b\b\b\b\b\b\b\b\b\b\b\b  5% - trip_data_2.csv\b\b\b\b\b\b\b\b\b\b\b\b\b\b\b\b\b\b\b\b\b\b                      \b\b\b\b\b\b\b\b\b\b\b\b\b\b\b\b\b\b\b\b\b\b  6% - trip_data_2.csv\b\b\b\b\b\b\b\b\b\b\b\b\b\b\b\b\b\b\b\b\b\b                      \b\b\b\b\b\b\b\b\b\b\b\b\b\b\b\b\b\b\b\b\b\b  7% - trip_data_2.csv\b\b\b\b\b\b\b\b\b\b\b\b\b\b\b\b\b\b\b\b\b\b                      \b\b\b\b\b\b\b\b\b\b\b\b\b\b\b\b\b\b\b\b\b\b  8% - trip_data_2.csv\b\b\b\b\b\b\b\b\b\b\b\b\b\b\b\b\b\b\b\b\b\b                      \b\b\b\b\b\b\b\b\b\b\b\b\b\b\b\b\b\b\b\b\b\b  9% - trip_data_2.csv\b\b\b\b\b\b\b\b\b\b\b\b\b\b\b\b\b\b\b\b\b\b                      \b\b\b\b\b\b\b\b\b\b\b\b\b\b\b\b\b\b\b\b\b\b 10% - trip_data_2.csv\b\b\b\b\b\b\b\b\b\b\b\b\b\b\b\b\b\b\b\b\b\b                      \b\b\b\b\b\b\b\b\b\b\b\b\b\b\b\b\b\b\b\b\b\b 11% - trip_data_2.csv\b\b\b\b\b\b\b\b\b\b\b\b\b\b\b\b\b\b\b\b\b\b                      \b\b\b\b\b\b\b\b\b\b\b\b\b\b\b\b\b\b\b\b\b\b 12% - trip_data_2.csv\b\b\b\b\b\b\b\b\b\b\b\b\b\b\b\b\b\b\b\b\b\b                      \b\b\b\b\b\b\b\b\b\b\b\b\b\b\b\b\b\b\b\b\b\b 13% - trip_data_2.csv\b\b\b\b\b\b\b\b\b\b\b\b\b\b\b\b\b\b\b\b\b\b                      \b\b\b\b\b\b\b\b\b\b\b\b\b\b\b\b\b\b\b\b\b\b 14% - trip_data_2.csv\b\b\b\b\b\b\b\b\b\b\b\b\b\b\b\b\b\b\b\b\b\b                      \b\b\b\b\b\b\b\b\b\b\b\b\b\b\b\b\b\b\b\b\b\b 15% - trip_data_2.csv\b\b\b\b\b\b\b\b\b\b\b\b\b\b\b\b\b\b\b\b\b\b                      \b\b\b\b\b\b\b\b\b\b\b\b\b\b\b\b\b\b\b\b\b\b 16% - trip_data_2.csv\b\b\b\b\b\b\b\b\b\b\b\b\b\b\b\b\b\b\b\b\b\b                      \b\b\b\b\b\b\b\b\b\b\b\b\b\b\b\b\b\b\b\b\b\b 17% - trip_data_2.csv\b\b\b\b\b\b\b\b\b\b\b\b\b\b\b\b\b\b\b\b\b\b                      \b\b\b\b\b\b\b\b\b\b\b\b\b\b\b\b\b\b\b\b\b\b 18% - trip_data_2.csv\b\b\b\b\b\b\b\b\b\b\b\b\b\b\b\b\b\b\b\b\b\b                      \b\b\b\b\b\b\b\b\b\b\b\b\b\b\b\b\b\b\b\b\b\b 19% - trip_data_2.csv\b\b\b\b\b\b\b\b\b\b\b\b\b\b\b\b\b\b\b\b\b\b                      \b\b\b\b\b\b\b\b\b\b\b\b\b\b\b\b\b\b\b\b\b\b 20% - trip_data_2.csv\b\b\b\b\b\b\b\b\b\b\b\b\b\b\b\b\b\b\b\b\b\b                      \b\b\b\b\b\b\b\b\b\b\b\b\b\b\b\b\b\b\b\b\b\b 21% - trip_data_2.csv\b\b\b\b\b\b\b\b\b\b\b\b\b\b\b\b\b\b\b\b\b\b                      \b\b\b\b\b\b\b\b\b\b\b\b\b\b\b\b\b\b\b\b\b\b 22% - trip_data_2.csv\b\b\b\b\b\b\b\b\b\b\b\b\b\b\b\b\b\b\b\b\b\b                      \b\b\b\b\b\b\b\b\b\b\b\b\b\b\b\b\b\b\b\b\b\b 23% - trip_data_2.csv\b\b\b\b\b\b\b\b\b\b\b\b\b\b\b\b\b\b\b\b\b\b                      \b\b\b\b\b\b\b\b\b\b\b\b\b\b\b\b\b\b\b\b\b\b 24% - trip_data_2.csv\b\b\b\b\b\b\b\b\b\b\b\b\b\b\b\b\b\b\b\b\b\b                      \b\b\b\b\b\b\b\b\b\b\b\b\b\b\b\b\b\b\b\b\b\b 25% - trip_data_2.csv\b\b\b\b\b\b\b\b\b\b\b\b\b\b\b\b\b\b\b\b\b\b                      \b\b\b\b\b\b\b\b\b\b\b\b\b\b\b\b\b\b\b\b\b\b 26% - trip_data_2.csv\b\b\b\b\b\b\b\b\b\b\b\b\b\b\b\b\b\b\b\b\b\b                      \b\b\b\b\b\b\b\b\b\b\b\b\b\b\b\b\b\b\b\b\b\b 27% - trip_data_2.csv\b\b\b\b\b\b\b\b\b\b\b\b\b\b\b\b\b\b\b\b\b\b                      \b\b\b\b\b\b\b\b\b\b\b\b\b\b\b\b\b\b\b\b\b\b 28% - trip_data_2.csv\b\b\b\b\b\b\b\b\b\b\b\b\b\b\b\b\b\b\b\b\b\b                      \b\b\b\b\b\b\b\b\b\b\b\b\b\b\b\b\b\b\b\b\b\b 29% - trip_data_2.csv\b\b\b\b\b\b\b\b\b\b\b\b\b\b\b\b\b\b\b\b\b\b                      \b\b\b\b\b\b\b\b\b\b\b\b\b\b\b\b\b\b\b\b\b\b 30% - trip_data_2.csv\b\b\b\b\b\b\b\b\b\b\b\b\b\b\b\b\b\b\b\b\b\b                      \b\b\b\b\b\b\b\b\b\b\b\b\b\b\b\b\b\b\b\b\b\b 31% - trip_data_2.csv\b\b\b\b\b\b\b\b\b\b\b\b\b\b\b\b\b\b\b\b\b\b                      \b\b\b\b\b\b\b\b\b\b\b\b\b\b\b\b\b\b\b\b\b\b 32% - trip_data_2.csv\b\b\b\b\b\b\b\b\b\b\b\b\b\b\b\b\b\b\b\b\b\b                      \b\b\b\b\b\b\b\b\b\b\b\b\b\b\b\b\b\b\b\b\b\b 33% - trip_data_2.csv\b\b\b\b\b\b\b\b\b\b\b\b\b\b\b\b\b\b\b\b\b\b                      \b\b\b\b\b\b\b\b\b\b\b\b\b\b\b\b\b\b\b\b\b\b 34% - trip_data_2.csv\b\b\b\b\b\b\b\b\b\b\b\b\b\b\b\b\b\b\b\b\b\b                      \b\b\b\b\b\b\b\b\b\b\b\b\b\b\b\b\b\b\b\b\b\b 35% - trip_data_2.csv\b\b\b\b\b\b\b\b\b\b\b\b\b\b\b\b\b\b\b\b\b\b                      \b\b\b\b\b\b\b\b\b\b\b\b\b\b\b\b\b\b\b\b\b\b 36% - trip_data_2.csv\b\b\b\b\b\b\b\b\b\b\b\b\b\b\b\b\b\b\b\b\b\b                      \b\b\b\b\b\b\b\b\b\b\b\b\b\b\b\b\b\b\b\b\b\b 37% - trip_data_2.csv\b\b\b\b\b\b\b\b\b\b\b\b\b\b\b\b\b\b\b\b\b\b                      \b\b\b\b\b\b\b\b\b\b\b\b\b\b\b\b\b\b\b\b\b\b 38% - trip_data_2.csv\b\b\b\b\b\b\b\b\b\b\b\b\b\b\b\b\b\b\b\b\b\b                      \b\b\b\b\b\b\b\b\b\b\b\b\b\b\b\b\b\b\b\b\b\b 39% - trip_data_2.csv\b\b\b\b\b\b\b\b\b\b\b\b\b\b\b\b\b\b\b\b\b\b                      \b\b\b\b\b\b\b\b\b\b\b\b\b\b\b\b\b\b\b\b\b\b 40% - trip_data_2.csv\b\b\b\b\b\b\b\b\b\b\b\b\b\b\b\b\b\b\b\b\b\b                      \b\b\b\b\b\b\b\b\b\b\b\b\b\b\b\b\b\b\b\b\b\b 41% - trip_data_2.csv\b\b\b\b\b\b\b\b\b\b\b\b\b\b\b\b\b\b\b\b\b\b                      \b\b\b\b\b\b\b\b\b\b\b\b\b\b\b\b\b\b\b\b\b\b 42% - trip_data_2.csv\b\b\b\b\b\b\b\b\b\b\b\b\b\b\b\b\b\b\b\b\b\b                      \b\b\b\b\b\b\b\b\b\b\b\b\b\b\b\b\b\b\b\b\b\b 43% - trip_data_2.csv\b\b\b\b\b\b\b\b\b\b\b\b\b\b\b\b\b\b\b\b\b\b                      \b\b\b\b\b\b\b\b\b\b\b\b\b\b\b\b\b\b\b\b\b\b 44% - trip_data_2.csv\b\b\b\b\b\b\b\b\b\b\b\b\b\b\b\b\b\b\b\b\b\b                      \b\b\b\b\b\b\b\b\b\b\b\b\b\b\b\b\b\b\b\b\b\b 45% - trip_data_2.csv\b\b\b\b\b\b\b\b\b\b\b\b\b\b\b\b\b\b\b\b\b\b                      \b\b\b\b\b\b\b\b\b\b\b\b\b\b\b\b\b\b\b\b\b\b 46% - trip_data_2.csv\b\b\b\b\b\b\b\b\b\b\b\b\b\b\b\b\b\b\b\b\b\b                      \b\b\b\b\b\b\b\b\b\b\b\b\b\b\b\b\b\b\b\b\b\b 47% - trip_data_2.csv\b\b\b\b\b\b\b\b\b\b\b\b\b\b\b\b\b\b\b\b\b\b                      \b\b\b\b\b\b\b\b\b\b\b\b\b\b\b\b\b\b\b\b\b\b 48% - trip_data_2.csv\b\b\b\b\b\b\b\b\b\b\b\b\b\b\b\b\b\b\b\b\b\b                      \b\b\b\b\b\b\b\b\b\b\b\b\b\b\b\b\b\b\b\b\b\b 49% - trip_data_2.csv\b\b\b\b\b\b\b\b\b\b\b\b\b\b\b\b\b\b\b\b\b\b                      \b\b\b\b\b\b\b\b\b\b\b\b\b\b\b\b\b\b\b\b\b\b 50% - trip_data_2.csv\b\b\b\b\b\b\b\b\b\b\b\b\b\b\b\b\b\b\b\b\b\b                      \b\b\b\b\b\b\b\b\b\b\b\b\b\b\b\b\b\b\b\b\b\b 51% - trip_data_2.csv\b\b\b\b\b\b\b\b\b\b\b\b\b\b\b\b\b\b\b\b\b\b                      \b\b\b\b\b\b\b\b\b\b\b\b\b\b\b\b\b\b\b\b\b\b 52% - trip_data_2.csv\b\b\b\b\b\b\b\b\b\b\b\b\b\b\b\b\b\b\b\b\b\b                      \b\b\b\b\b\b\b\b\b\b\b\b\b\b\b\b\b\b\b\b\b\b 53% - trip_data_2.csv\b\b\b\b\b\b\b\b\b\b\b\b\b\b\b\b\b\b\b\b\b\b                      \b\b\b\b\b\b\b\b\b\b\b\b\b\b\b\b\b\b\b\b\b\b 54% - trip_data_2.csv\b\b\b\b\b\b\b\b\b\b\b\b\b\b\b\b\b\b\b\b\b\b                      \b\b\b\b\b\b\b\b\b\b\b\b\b\b\b\b\b\b\b\b\b\b 55% - trip_data_2.csv\b\b\b\b\b\b\b\b\b\b\b\b\b\b\b\b\b\b\b\b\b\b                      \b\b\b\b\b\b\b\b\b\b\b\b\b\b\b\b\b\b\b\b\b\b 56% - trip_data_2.csv\b\b\b\b\b\b\b\b\b\b\b\b\b\b\b\b\b\b\b\b\b\b                      \b\b\b\b\b\b\b\b\b\b\b\b\b\b\b\b\b\b\b\b\b\b 57% - trip_data_2.csv\b\b\b\b\b\b\b\b\b\b\b\b\b\b\b\b\b\b\b\b\b\b                      \b\b\b\b\b\b\b\b\b\b\b\b\b\b\b\b\b\b\b\b\b\b 58% - trip_data_2.csv\b\b\b\b\b\b\b\b\b\b\b\b\b\b\b\b\b\b\b\b\b\b                      \b\b\b\b\b\b\b\b\b\b\b\b\b\b\b\b\b\b\b\b\b\b 59% - trip_data_2.csv\b\b\b\b\b\b\b\b\b\b\b\b\b\b\b\b\b\b\b\b\b\b                      \b\b\b\b\b\b\b\b\b\b\b\b\b\b\b\b\b\b\b\b\b\b 60% - trip_data_2.csv\b\b\b\b\b\b\b\b\b\b\b\b\b\b\b\b\b\b\b\b\b\b                      \b\b\b\b\b\b\b\b\b\b\b\b\b\b\b\b\b\b\b\b\b\b 61% - trip_data_2.csv\b\b\b\b\b\b\b\b\b\b\b\b\b\b\b\b\b\b\b\b\b\b                      \b\b\b\b\b\b\b\b\b\b\b\b\b\b\b\b\b\b\b\b\b\b 62% - trip_data_2.csv\b\b\b\b\b\b\b\b\b\b\b\b\b\b\b\b\b\b\b\b\b\b                      \b\b\b\b\b\b\b\b\b\b\b\b\b\b\b\b\b\b\b\b\b\b 63% - trip_data_2.csv\b\b\b\b\b\b\b\b\b\b\b\b\b\b\b\b\b\b\b\b\b\b                      \b\b\b\b\b\b\b\b\b\b\b\b\b\b\b\b\b\b\b\b\b\b 64% - trip_data_2.csv\b\b\b\b\b\b\b\b\b\b\b\b\b\b\b\b\b\b\b\b\b\b                      \b\b\b\b\b\b\b\b\b\b\b\b\b\b\b\b\b\b\b\b\b\b 65% - trip_data_2.csv\b\b\b\b\b\b\b\b\b\b\b\b\b\b\b\b\b\b\b\b\b\b                      \b\b\b\b\b\b\b\b\b\b\b\b\b\b\b\b\b\b\b\b\b\b 66% - trip_data_2.csv\b\b\b\b\b\b\b\b\b\b\b\b\b\b\b\b\b\b\b\b\b\b                      \b\b\b\b\b\b\b\b\b\b\b\b\b\b\b\b\b\b\b\b\b\b 67% - trip_data_2.csv\b\b\b\b\b\b\b\b\b\b\b\b\b\b\b\b\b\b\b\b\b\b                      \b\b\b\b\b\b\b\b\b\b\b\b\b\b\b\b\b\b\b\b\b\b 68% - trip_data_2.csv\b\b\b\b\b\b\b\b\b\b\b\b\b\b\b\b\b\b\b\b\b\b                      \b\b\b\b\b\b\b\b\b\b\b\b\b\b\b\b\b\b\b\b\b\b 69% - trip_data_2.csv\b\b\b\b\b\b\b\b\b\b\b\b\b\b\b\b\b\b\b\b\b\b                      \b\b\b\b\b\b\b\b\b\b\b\b\b\b\b\b\b\b\b\b\b\b 70% - trip_data_2.csv\b\b\b\b\b\b\b\b\b\b\b\b\b\b\b\b\b\b\b\b\b\b                      \b\b\b\b\b\b\b\b\b\b\b\b\b\b\b\b\b\b\b\b\b\b 71% - trip_data_2.csv\b\b\b\b\b\b\b\b\b\b\b\b\b\b\b\b\b\b\b\b\b\b                      \b\b\b\b\b\b\b\b\b\b\b\b\b\b\b\b\b\b\b\b\b\b 72% - trip_data_2.csv\b\b\b\b\b\b\b\b\b\b\b\b\b\b\b\b\b\b\b\b\b\b                      \b\b\b\b\b\b\b\b\b\b\b\b\b\b\b\b\b\b\b\b\b\b 73% - trip_data_2.csv\b\b\b\b\b\b\b\b\b\b\b\b\b\b\b\b\b\b\b\b\b\b                      \b\b\b\b\b\b\b\b\b\b\b\b\b\b\b\b\b\b\b\b\b\b 74% - trip_data_2.csv\b\b\b\b\b\b\b\b\b\b\b\b\b\b\b\b\b\b\b\b\b\b                      \b\b\b\b\b\b\b\b\b\b\b\b\b\b\b\b\b\b\b\b\b\b 75% - trip_data_2.csv\b\b\b\b\b\b\b\b\b\b\b\b\b\b\b\b\b\b\b\b\b\b                      \b\b\b\b\b\b\b\b\b\b\b\b\b\b\b\b\b\b\b\b\b\b 76% - trip_data_2.csv\b\b\b\b\b\b\b\b\b\b\b\b\b\b\b\b\b\b\b\b\b\b                      \b\b\b\b\b\b\b\b\b\b\b\b\b\b\b\b\b\b\b\b\b\b 77% - trip_data_2.csv\b\b\b\b\b\b\b\b\b\b\b\b\b\b\b\b\b\b\b\b\b\b                      \b\b\b\b\b\b\b\b\b\b\b\b\b\b\b\b\b\b\b\b\b\b 78% - trip_data_2.csv\b\b\b\b\b\b\b\b\b\b\b\b\b\b\b\b\b\b\b\b\b\b                      \b\b\b\b\b\b\b\b\b\b\b\b\b\b\b\b\b\b\b\b\b\b 79% - trip_data_2.csv\b\b\b\b\b\b\b\b\b\b\b\b\b\b\b\b\b\b\b\b\b\b                      \b\b\b\b\b\b\b\b\b\b\b\b\b\b\b\b\b\b\b\b\b\b 80% - trip_data_2.csv\b\b\b\b\b\b\b\b\b\b\b\b\b\b\b\b\b\b\b\b\b\b                      \b\b\b\b\b\b\b\b\b\b\b\b\b\b\b\b\b\b\b\b\b\b 81% - trip_data_2.csv\b\b\b\b\b\b\b\b\b\b\b\b\b\b\b\b\b\b\b\b\b\b                      \b\b\b\b\b\b\b\b\b\b\b\b\b\b\b\b\b\b\b\b\b\b 82% - trip_data_2.csv\b\b\b\b\b\b\b\b\b\b\b\b\b\b\b\b\b\b\b\b\b\b                      \b\b\b\b\b\b\b\b\b\b\b\b\b\b\b\b\b\b\b\b\b\b 83% - trip_data_2.csv\b\b\b\b\b\b\b\b\b\b\b\b\b\b\b\b\b\b\b\b\b\b                      \b\b\b\b\b\b\b\b\b\b\b\b\b\b\b\b\b\b\b\b\b\b 84% - trip_data_2.csv\b\b\b\b\b\b\b\b\b\b\b\b\b\b\b\b\b\b\b\b\b\b                      \b\b\b\b\b\b\b\b\b\b\b\b\b\b\b\b\b\b\b\b\b\b 85% - trip_data_2.csv\b\b\b\b\b\b\b\b\b\b\b\b\b\b\b\b\b\b\b\b\b\b                      \b\b\b\b\b\b\b\b\b\b\b\b\b\b\b\b\b\b\b\b\b\b 86% - trip_data_2.csv\b\b\b\b\b\b\b\b\b\b\b\b\b\b\b\b\b\b\b\b\b\b                      \b\b\b\b\b\b\b\b\b\b\b\b\b\b\b\b\b\b\b\b\b\b 87% - trip_data_2.csv\b\b\b\b\b\b\b\b\b\b\b\b\b\b\b\b\b\b\b\b\b\b                      \b\b\b\b\b\b\b\b\b\b\b\b\b\b\b\b\b\b\b\b\b\b 88% - trip_data_2.csv\b\b\b\b\b\b\b\b\b\b\b\b\b\b\b\b\b\b\b\b\b\b                      \b\b\b\b\b\b\b\b\b\b\b\b\b\b\b\b\b\b\b\b\b\b 89% - trip_data_2.csv\b\b\b\b\b\b\b\b\b\b\b\b\b\b\b\b\b\b\b\b\b\b                      \b\b\b\b\b\b\b\b\b\b\b\b\b\b\b\b\b\b\b\b\b\b 90% - trip_data_2.csv\b\b\b\b\b\b\b\b\b\b\b\b\b\b\b\b\b\b\b\b\b\b                      \b\b\b\b\b\b\b\b\b\b\b\b\b\b\b\b\b\b\b\b\b\b 91% - trip_data_2.csv\b\b\b\b\b\b\b\b\b\b\b\b\b\b\b\b\b\b\b\b\b\b                      \b\b\b\b\b\b\b\b\b\b\b\b\b\b\b\b\b\b\b\b\b\b 92% - trip_data_2.csv\b\b\b\b\b\b\b\b\b\b\b\b\b\b\b\b\b\b\b\b\b\b                      \b\b\b\b\b\b\b\b\b\b\b\b\b\b\b\b\b\b\b\b\b\b 93% - trip_data_2.csv\b\b\b\b\b\b\b\b\b\b\b\b\b\b\b\b\b\b\b\b\b\b                      \b\b\b\b\b\b\b\b\b\b\b\b\b\b\b\b\b\b\b\b\b\b 94% - trip_data_2.csv\b\b\b\b\b\b\b\b\b\b\b\b\b\b\b\b\b\b\b\b\b\b                      \b\b\b\b\b\b\b\b\b\b\b\b\b\b\b\b\b\b\b\b\b\b 95% - trip_data_2.csv\b\b\b\b\b\b\b\b\b\b\b\b\b\b\b\b\b\b\b\b\b\b                      \b\b\b\b\b\b\b\b\b\b\b\b\b\b\b\b\b\b\b\b\b\b 96% - trip_data_2.csv\b\b\b\b\b\b\b\b\b\b\b\b\b\b\b\b\b\b\b\b\b\b                      \b\b\b\b\b\b\b\b\b\b\b\b\b\b\b\b\b\b\b\b\b\b 97% - trip_data_2.csv\b\b\b\b\b\b\b\b\b\b\b\b\b\b\b\b\b\b\b\b\b\b                      \b\b\b\b\b\b\b\b\b\b\b\b\b\b\b\b\b\b\b\b\b\b 98% - trip_data_2.csv\b\b\b\b\b\b\b\b\b\b\b\b\b\b\b\b\b\b\b\b\b\b                      \b\b\b\b\b\b\b\b\b\b\b\b\b\b\b\b\b\b\b\b\b\b 99% - trip_data_2.csv\b\b\b\b\b\b\b\b\b\b\b\b\b\b\b\b\b\b\b\b\b\b                      \b\b\b\b\b\b\b\b\b\b\b\b\b\b\b\b\b\b\b\b\b\b100% 1\b\b\b\b\b\b      \b\b\b\b\b\bEverything is Ok\n",
            "\n",
            "Size:       2328673265\n",
            "Compressed: 4102781969\n"
          ],
          "name": "stdout"
        }
      ]
    },
    {
      "cell_type": "code",
      "metadata": {
        "id": "7spRZGyQSlWd",
        "colab_type": "code",
        "colab": {}
      },
      "source": [
        "def huella_de_memoria():\n",
        "  ''' regresa la memoria usada por un proceso en  Python'''\n",
        "  mem = psutil.Process(os.getpid()).memory_info().rss\n",
        "  return (mem//1024**2)"
      ],
      "execution_count": 0,
      "outputs": []
    },
    {
      "cell_type": "code",
      "metadata": {
        "id": "h7DqX9P-S2A_",
        "colab_type": "code",
        "outputId": "a775c369-d1b2-4163-eb51-e04c97cd4592",
        "colab": {
          "base_uri": "https://localhost:8080/",
          "height": 34
        }
      },
      "source": [
        "antes=huella_de_memoria()\n",
        "print(antes)"
      ],
      "execution_count": 0,
      "outputs": [
        {
          "output_type": "stream",
          "text": [
            "142\n"
          ],
          "name": "stdout"
        }
      ]
    },
    {
      "cell_type": "markdown",
      "metadata": {
        "id": "0FsNsh9wv6Zl",
        "colab_type": "text"
      },
      "source": [
        "#Prefunta 5\n",
        "Crear un DataFrame usando la libreria pandas y responder lo siguiente:\n",
        "1. Indicar el tiempo en segundos, que  tarda la libreria `pandas` en leer un archivo a un  `DataFrame`: **1min 47s**\n",
        "2. Cual es la huella de memoria del proceso usado para generar el objeto `DataFrame`:**5104**\n",
        "2. Cuanta memoria del sistema se usa para crear el objeto anterior:**4962**\n",
        "3. Indicar el tiempo que tarda `pandas` en obtener el promedio de la distancia de viaje :**59.5 ms**"
      ]
    },
    {
      "cell_type": "code",
      "metadata": {
        "id": "-2MzmB8la9pP",
        "colab_type": "code",
        "outputId": "57ade04a-ad87-45c1-e7da-bb20433949e3",
        "colab": {
          "base_uri": "https://localhost:8080/",
          "height": 51
        }
      },
      "source": [
        "%%time\n",
        "df = pd.read_csv('trip_data_1.csv')"
      ],
      "execution_count": 0,
      "outputs": [
        {
          "output_type": "stream",
          "text": [
            "CPU times: user 53.4 s, sys: 7.55 s, total: 1min\n",
            "Wall time: 1min 47s\n"
          ],
          "name": "stdout"
        }
      ]
    },
    {
      "cell_type": "code",
      "metadata": {
        "id": "RwgAONx-bHjt",
        "colab_type": "code",
        "outputId": "aa0359b7-2c12-42f0-a98a-abf4c8d57161",
        "colab": {
          "base_uri": "https://localhost:8080/",
          "height": 34
        }
      },
      "source": [
        "despues=huella_de_memoria()\n",
        "print(despues)"
      ],
      "execution_count": 0,
      "outputs": [
        {
          "output_type": "stream",
          "text": [
            "5104\n"
          ],
          "name": "stdout"
        }
      ]
    },
    {
      "cell_type": "code",
      "metadata": {
        "id": "puIj5bU0bz5m",
        "colab_type": "code",
        "outputId": "2649f9ce-d14c-4082-f07d-cca0784139fd",
        "colab": {
          "base_uri": "https://localhost:8080/",
          "height": 34
        }
      },
      "source": [
        "print(despues-antes)"
      ],
      "execution_count": 0,
      "outputs": [
        {
          "output_type": "stream",
          "text": [
            "4962\n"
          ],
          "name": "stdout"
        }
      ]
    },
    {
      "cell_type": "code",
      "metadata": {
        "id": "b8AfsK0Lb2Zw",
        "colab_type": "code",
        "outputId": "ba7b47c5-1f59-4fa4-ee27-62d74444044e",
        "colab": {
          "base_uri": "https://localhost:8080/",
          "height": 68
        }
      },
      "source": [
        "%%time\n",
        "df['trip_distance'].mean()\n"
      ],
      "execution_count": 0,
      "outputs": [
        {
          "output_type": "stream",
          "text": [
            "CPU times: user 39.3 ms, sys: 2.07 ms, total: 41.4 ms\n",
            "Wall time: 59.5 ms\n"
          ],
          "name": "stdout"
        },
        {
          "output_type": "execute_result",
          "data": {
            "text/plain": [
              "2.770975670679966"
            ]
          },
          "metadata": {
            "tags": []
          },
          "execution_count": 35
        }
      ]
    },
    {
      "cell_type": "markdown",
      "metadata": {
        "id": "84NM1WPbdAS2",
        "colab_type": "text"
      },
      "source": [
        ""
      ]
    },
    {
      "cell_type": "markdown",
      "metadata": {
        "id": "d_s3EzIbufad",
        "colab_type": "text"
      },
      "source": [
        "#Pregunta 3\n",
        "Responder las siguientes preguntas:\n",
        "\n",
        "> Cuantas columnas contiene cada archivo de datos descomprimido: **14**\n",
        "\n",
        "\n",
        "\n",
        ">Cuantos renglones tiene cada archivo: **14776615**\n",
        "\n"
      ]
    },
    {
      "cell_type": "code",
      "metadata": {
        "id": "C8jSE5cGcaI1",
        "colab_type": "code",
        "outputId": "db396e2d-bfd3-4f8e-8437-8238fcb2fa7d",
        "colab": {
          "base_uri": "https://localhost:8080/",
          "height": 34
        }
      },
      "source": [
        "df.shape"
      ],
      "execution_count": 0,
      "outputs": [
        {
          "output_type": "execute_result",
          "data": {
            "text/plain": [
              "(14776615, 14)"
            ]
          },
          "metadata": {
            "tags": []
          },
          "execution_count": 14
        }
      ]
    },
    {
      "cell_type": "markdown",
      "metadata": {
        "id": "XmRaxcyKkO9b",
        "colab_type": "text"
      },
      "source": [
        "##Depurando los dasopara la pregunta 4"
      ]
    },
    {
      "cell_type": "code",
      "metadata": {
        "id": "cbsqKaqEdOtW",
        "colab_type": "code",
        "outputId": "7a7ff171-0772-4507-9dfb-6b15c21a6b71",
        "colab": {
          "base_uri": "https://localhost:8080/",
          "height": 119
        }
      },
      "source": [
        "df.columns"
      ],
      "execution_count": 0,
      "outputs": [
        {
          "output_type": "execute_result",
          "data": {
            "text/plain": [
              "Index(['medallion', 'hack_license', 'vendor_id', 'rate_code',\n",
              "       'store_and_fwd_flag', 'pickup_datetime', 'dropoff_datetime',\n",
              "       'passenger_count', 'trip_time_in_secs', 'trip_distance',\n",
              "       'pickup_longitude', 'pickup_latitude', 'dropoff_longitude',\n",
              "       'dropoff_latitude'],\n",
              "      dtype='object')"
            ]
          },
          "metadata": {
            "tags": []
          },
          "execution_count": 15
        }
      ]
    },
    {
      "cell_type": "code",
      "metadata": {
        "id": "7hdQUzqHeCUt",
        "colab_type": "code",
        "colab": {}
      },
      "source": [
        "blancos_m=df.rate_code==0"
      ],
      "execution_count": 0,
      "outputs": []
    },
    {
      "cell_type": "code",
      "metadata": {
        "id": "H5grkVAuhJiB",
        "colab_type": "code",
        "outputId": "8b309002-1efc-442a-d3d1-8caa47b14866",
        "colab": {
          "base_uri": "https://localhost:8080/",
          "height": 272
        }
      },
      "source": [
        "df.loc[blancos_m].count()"
      ],
      "execution_count": 0,
      "outputs": [
        {
          "output_type": "execute_result",
          "data": {
            "text/plain": [
              "medallion             667\n",
              "hack_license          667\n",
              "vendor_id             667\n",
              "rate_code             667\n",
              "store_and_fwd_flag    176\n",
              "pickup_datetime       667\n",
              "dropoff_datetime      667\n",
              "passenger_count       667\n",
              "trip_time_in_secs     667\n",
              "trip_distance         667\n",
              "pickup_longitude      667\n",
              "pickup_latitude       667\n",
              "dropoff_longitude     581\n",
              "dropoff_latitude      581\n",
              "dtype: int64"
            ]
          },
          "metadata": {
            "tags": []
          },
          "execution_count": 49
        }
      ]
    },
    {
      "cell_type": "markdown",
      "metadata": {
        "id": "06b0W6LzkgkF",
        "colab_type": "text"
      },
      "source": [
        "Se detecta que hay viejes con un numero de pasajeros mayor a la capasidad de un veiculo normal. O en cero.\n",
        "###Pasajeros  - numero viajes\n",
        "* 0 - 166\n",
        "* 255      -     1\n",
        "* 208      -     1\n",
        "* 9          -      1\n",
        "\n",
        "\n"
      ]
    },
    {
      "cell_type": "code",
      "metadata": {
        "id": "hgu40y-JhTv1",
        "colab_type": "code",
        "outputId": "3ba4ac69-f32a-4c99-cc37-1d5a574f62cd",
        "colab": {
          "base_uri": "https://localhost:8080/",
          "height": 204
        }
      },
      "source": [
        "df['passenger_count'].value_counts()"
      ],
      "execution_count": 0,
      "outputs": [
        {
          "output_type": "execute_result",
          "data": {
            "text/plain": [
              "1      10471701\n",
              "2       1986196\n",
              "5        920006\n",
              "3        597485\n",
              "6        520066\n",
              "4        280992\n",
              "0           166\n",
              "255           1\n",
              "208           1\n",
              "9             1\n",
              "Name: passenger_count, dtype: int64"
            ]
          },
          "metadata": {
            "tags": []
          },
          "execution_count": 54
        }
      ]
    },
    {
      "cell_type": "markdown",
      "metadata": {
        "id": "rjsXUF5hl7ki",
        "colab_type": "text"
      },
      "source": [
        "Se detecta que hay viajes con un tarifa fuera de rango\n",
        ">Clave tarifa  -- Numero de viajes\n",
        "* 210 -11\n",
        "* 128 - 4\n",
        "* 28 - 2\n",
        "* 65 - 1\n"
      ]
    },
    {
      "cell_type": "code",
      "metadata": {
        "id": "kNkm0lxIh90E",
        "colab_type": "code",
        "outputId": "a0376bc9-ad6c-4847-bbcb-9af4780bba28",
        "colab": {
          "base_uri": "https://localhost:8080/",
          "height": 272
        }
      },
      "source": [
        "df['rate_code'].value_counts()"
      ],
      "execution_count": 0,
      "outputs": [
        {
          "output_type": "execute_result",
          "data": {
            "text/plain": [
              "1      14456067\n",
              "2        239160\n",
              "5         39889\n",
              "4         22831\n",
              "3         17655\n",
              "0           667\n",
              "6           315\n",
              "210          11\n",
              "8            10\n",
              "128           4\n",
              "28            2\n",
              "7             2\n",
              "65            1\n",
              "9             1\n",
              "Name: rate_code, dtype: int64"
            ]
          },
          "metadata": {
            "tags": []
          },
          "execution_count": 55
        }
      ]
    },
    {
      "cell_type": "code",
      "metadata": {
        "id": "Pq3hefs2jAoZ",
        "colab_type": "code",
        "outputId": "b5ca948a-9cef-4971-d718-6589727dadbc",
        "colab": {
          "base_uri": "https://localhost:8080/",
          "height": 68
        }
      },
      "source": [
        "df['store_and_fwd_flag'].value_counts()"
      ],
      "execution_count": 0,
      "outputs": [
        {
          "output_type": "execute_result",
          "data": {
            "text/plain": [
              "N    7285231\n",
              "Y     165177\n",
              "Name: store_and_fwd_flag, dtype: int64"
            ]
          },
          "metadata": {
            "tags": []
          },
          "execution_count": 56
        }
      ]
    },
    {
      "cell_type": "markdown",
      "metadata": {
        "id": "mIl0n6Lmnxqw",
        "colab_type": "text"
      },
      "source": [
        "SE detencta que hay **83376** registros  con cero distacia de viaje."
      ]
    },
    {
      "cell_type": "code",
      "metadata": {
        "id": "sgWWAmXEmzfA",
        "colab_type": "code",
        "colab": {}
      },
      "source": [
        "distancia_cero=df.trip_distance>0\n",
        "df.loc[distancia_cero]"
      ],
      "execution_count": 0,
      "outputs": []
    },
    {
      "cell_type": "code",
      "metadata": {
        "id": "3RzyRwB-m_2D",
        "colab_type": "code",
        "colab": {}
      },
      "source": [
        "df_limpia=df.loc[df['trip_distance']>0]"
      ],
      "execution_count": 0,
      "outputs": []
    },
    {
      "cell_type": "code",
      "metadata": {
        "id": "m7WH5Gn1tmTG",
        "colab_type": "code",
        "colab": {}
      },
      "source": [
        "df_limpia=df_limpia.loc[df_limpia['rate_code']<10]"
      ],
      "execution_count": 0,
      "outputs": []
    },
    {
      "cell_type": "code",
      "metadata": {
        "id": "BZZ5UFPow3oN",
        "colab_type": "code",
        "colab": {}
      },
      "source": [
        "df_limpia=df_limpia.loc[df_limpia['passenger_count']>0]"
      ],
      "execution_count": 0,
      "outputs": []
    },
    {
      "cell_type": "code",
      "metadata": {
        "id": "ayx5vyKK3TOA",
        "colab_type": "code",
        "colab": {}
      },
      "source": [
        "df_limpia=df_limpia.loc[df_limpia['passenger_count']<=6]"
      ],
      "execution_count": 0,
      "outputs": []
    },
    {
      "cell_type": "code",
      "metadata": {
        "id": "vOUzNmrP3biU",
        "colab_type": "code",
        "outputId": "1c95a7e3-9c42-40d8-dc4d-b04d06f6456a",
        "colab": {
          "base_uri": "https://localhost:8080/",
          "height": 136
        }
      },
      "source": [
        "df_limpia['passenger_count'].value_counts()"
      ],
      "execution_count": 0,
      "outputs": [
        {
          "output_type": "execute_result",
          "data": {
            "text/plain": [
              "1    10404277\n",
              "2     1977825\n",
              "5      917154\n",
              "3      595293\n",
              "6      518958\n",
              "4      279667\n",
              "Name: passenger_count, dtype: int64"
            ]
          },
          "metadata": {
            "tags": []
          },
          "execution_count": 20
        }
      ]
    },
    {
      "cell_type": "code",
      "metadata": {
        "id": "VaxDnC6W3jGd",
        "colab_type": "code",
        "outputId": "f6e716f1-825e-4d9f-efc5-fac1a175c2e8",
        "colab": {
          "base_uri": "https://localhost:8080/",
          "height": 3009
        }
      },
      "source": [
        "df_limpia.sort_values(by=['pickup_latitude'], ascending=False)"
      ],
      "execution_count": 0,
      "outputs": [
        {
          "output_type": "execute_result",
          "data": {
            "text/html": [
              "<div>\n",
              "<style scoped>\n",
              "    .dataframe tbody tr th:only-of-type {\n",
              "        vertical-align: middle;\n",
              "    }\n",
              "\n",
              "    .dataframe tbody tr th {\n",
              "        vertical-align: top;\n",
              "    }\n",
              "\n",
              "    .dataframe thead th {\n",
              "        text-align: right;\n",
              "    }\n",
              "</style>\n",
              "<table border=\"1\" class=\"dataframe\">\n",
              "  <thead>\n",
              "    <tr style=\"text-align: right;\">\n",
              "      <th></th>\n",
              "      <th>medallion</th>\n",
              "      <th>hack_license</th>\n",
              "      <th>vendor_id</th>\n",
              "      <th>rate_code</th>\n",
              "      <th>store_and_fwd_flag</th>\n",
              "      <th>pickup_datetime</th>\n",
              "      <th>dropoff_datetime</th>\n",
              "      <th>passenger_count</th>\n",
              "      <th>trip_time_in_secs</th>\n",
              "      <th>trip_distance</th>\n",
              "      <th>pickup_longitude</th>\n",
              "      <th>pickup_latitude</th>\n",
              "      <th>dropoff_longitude</th>\n",
              "      <th>dropoff_latitude</th>\n",
              "    </tr>\n",
              "  </thead>\n",
              "  <tbody>\n",
              "    <tr>\n",
              "      <th>13408731</th>\n",
              "      <td>562396B7694D3EA5D60B669D6DD28509</td>\n",
              "      <td>269C240BDD6392E1DAC0175E52595C6C</td>\n",
              "      <td>VTS</td>\n",
              "      <td>1</td>\n",
              "      <td>NaN</td>\n",
              "      <td>2013-01-12 19:38:00</td>\n",
              "      <td>2013-01-12 19:53:00</td>\n",
              "      <td>1</td>\n",
              "      <td>900</td>\n",
              "      <td>2.86</td>\n",
              "      <td>0.000000</td>\n",
              "      <td>3310.36450</td>\n",
              "      <td>-74.003799</td>\n",
              "      <td>40.738403</td>\n",
              "    </tr>\n",
              "    <tr>\n",
              "      <th>12418867</th>\n",
              "      <td>A0ACEC39526994497557427CBC1519C4</td>\n",
              "      <td>2678FDCC33D0E3F195B9C36E8A26DA30</td>\n",
              "      <td>VTS</td>\n",
              "      <td>1</td>\n",
              "      <td>NaN</td>\n",
              "      <td>2013-01-08 18:07:00</td>\n",
              "      <td>2013-01-08 18:23:00</td>\n",
              "      <td>6</td>\n",
              "      <td>960</td>\n",
              "      <td>3.59</td>\n",
              "      <td>0.000000</td>\n",
              "      <td>3210.36250</td>\n",
              "      <td>0.000000</td>\n",
              "      <td>40.778934</td>\n",
              "    </tr>\n",
              "    <tr>\n",
              "      <th>12899672</th>\n",
              "      <td>1E4F223A103DF1EC0335E26FC90B8069</td>\n",
              "      <td>62ED946B579E937E5809DE32123CF134</td>\n",
              "      <td>VTS</td>\n",
              "      <td>1</td>\n",
              "      <td>NaN</td>\n",
              "      <td>2013-01-10 22:43:00</td>\n",
              "      <td>2013-01-10 22:58:00</td>\n",
              "      <td>1</td>\n",
              "      <td>900</td>\n",
              "      <td>2.91</td>\n",
              "      <td>-0.153333</td>\n",
              "      <td>3210.34470</td>\n",
              "      <td>-73.918571</td>\n",
              "      <td>40.689754</td>\n",
              "    </tr>\n",
              "    <tr>\n",
              "      <th>13061041</th>\n",
              "      <td>E78A6A9B856A91C5E62622B9C73ADEF8</td>\n",
              "      <td>EA610693880873356FC65AD9FA286A1D</td>\n",
              "      <td>VTS</td>\n",
              "      <td>1</td>\n",
              "      <td>NaN</td>\n",
              "      <td>2013-01-11 13:08:00</td>\n",
              "      <td>2013-01-11 13:21:00</td>\n",
              "      <td>1</td>\n",
              "      <td>780</td>\n",
              "      <td>1.62</td>\n",
              "      <td>-0.356667</td>\n",
              "      <td>3210.34400</td>\n",
              "      <td>-73.973061</td>\n",
              "      <td>40.786900</td>\n",
              "    </tr>\n",
              "    <tr>\n",
              "      <th>4967763</th>\n",
              "      <td>C7A97F6BFA4DD801F8672370C891D2FF</td>\n",
              "      <td>22A2EF336AA53A7C2FF9EB5A0D659641</td>\n",
              "      <td>VTS</td>\n",
              "      <td>1</td>\n",
              "      <td>NaN</td>\n",
              "      <td>2013-01-17 22:36:00</td>\n",
              "      <td>2013-01-17 23:01:00</td>\n",
              "      <td>3</td>\n",
              "      <td>1500</td>\n",
              "      <td>8.92</td>\n",
              "      <td>0.000000</td>\n",
              "      <td>3124.19800</td>\n",
              "      <td>0.000000</td>\n",
              "      <td>0.000000</td>\n",
              "    </tr>\n",
              "    <tr>\n",
              "      <th>8588611</th>\n",
              "      <td>426B611FA1FC0E3B0196C165835A9523</td>\n",
              "      <td>0452CE4A2F0305CDA7143ADDC3918613</td>\n",
              "      <td>VTS</td>\n",
              "      <td>2</td>\n",
              "      <td>NaN</td>\n",
              "      <td>2013-01-25 18:20:00</td>\n",
              "      <td>2013-01-25 18:36:00</td>\n",
              "      <td>1</td>\n",
              "      <td>960</td>\n",
              "      <td>4.60</td>\n",
              "      <td>0.000000</td>\n",
              "      <td>2317.65060</td>\n",
              "      <td>-73.969460</td>\n",
              "      <td>40.790108</td>\n",
              "    </tr>\n",
              "    <tr>\n",
              "      <th>1678540</th>\n",
              "      <td>52FD37CE0BB534C5581FC6388F71AF35</td>\n",
              "      <td>D082F47B4F738BADA0CE817040CB745F</td>\n",
              "      <td>VTS</td>\n",
              "      <td>1</td>\n",
              "      <td>NaN</td>\n",
              "      <td>2013-01-04 18:13:00</td>\n",
              "      <td>2013-01-04 18:29:00</td>\n",
              "      <td>5</td>\n",
              "      <td>960</td>\n",
              "      <td>5.36</td>\n",
              "      <td>0.000000</td>\n",
              "      <td>2313.04570</td>\n",
              "      <td>-73.985901</td>\n",
              "      <td>40.740883</td>\n",
              "    </tr>\n",
              "    <tr>\n",
              "      <th>9231087</th>\n",
              "      <td>8C63EAF81CF0E0082DEF0093F80DBA54</td>\n",
              "      <td>962FF77FEA6616D146FE35FD19FDF560</td>\n",
              "      <td>VTS</td>\n",
              "      <td>1</td>\n",
              "      <td>NaN</td>\n",
              "      <td>2013-01-27 14:54:00</td>\n",
              "      <td>2013-01-27 15:07:00</td>\n",
              "      <td>2</td>\n",
              "      <td>780</td>\n",
              "      <td>4.69</td>\n",
              "      <td>0.000000</td>\n",
              "      <td>2210.17500</td>\n",
              "      <td>-73.775017</td>\n",
              "      <td>40.685261</td>\n",
              "    </tr>\n",
              "    <tr>\n",
              "      <th>12803079</th>\n",
              "      <td>562396B7694D3EA5D60B669D6DD28509</td>\n",
              "      <td>092FFC17096F188C23795CA5BBABB71A</td>\n",
              "      <td>VTS</td>\n",
              "      <td>1</td>\n",
              "      <td>NaN</td>\n",
              "      <td>2013-01-10 13:36:00</td>\n",
              "      <td>2013-01-10 13:57:00</td>\n",
              "      <td>1</td>\n",
              "      <td>1260</td>\n",
              "      <td>9.74</td>\n",
              "      <td>0.000000</td>\n",
              "      <td>2210.17240</td>\n",
              "      <td>0.000000</td>\n",
              "      <td>40.682617</td>\n",
              "    </tr>\n",
              "    <tr>\n",
              "      <th>13064638</th>\n",
              "      <td>266CCA39BBE9D879BB5CF8DEA1B19871</td>\n",
              "      <td>007E686365B4421FB22F8F2FAF21FBC1</td>\n",
              "      <td>VTS</td>\n",
              "      <td>1</td>\n",
              "      <td>NaN</td>\n",
              "      <td>2013-01-11 17:01:00</td>\n",
              "      <td>2013-01-11 17:11:00</td>\n",
              "      <td>5</td>\n",
              "      <td>600</td>\n",
              "      <td>1.64</td>\n",
              "      <td>0.000000</td>\n",
              "      <td>2152.33400</td>\n",
              "      <td>0.000000</td>\n",
              "      <td>41.453667</td>\n",
              "    </tr>\n",
              "    <tr>\n",
              "      <th>10634459</th>\n",
              "      <td>D6C88A1D929659923F068E17046036C9</td>\n",
              "      <td>DD6913EBE39C5D85CBF64173311B69C6</td>\n",
              "      <td>VTS</td>\n",
              "      <td>1</td>\n",
              "      <td>NaN</td>\n",
              "      <td>2013-01-31 15:38:00</td>\n",
              "      <td>2013-01-31 15:45:00</td>\n",
              "      <td>1</td>\n",
              "      <td>420</td>\n",
              "      <td>1.44</td>\n",
              "      <td>0.000000</td>\n",
              "      <td>2041.24040</td>\n",
              "      <td>-73.978394</td>\n",
              "      <td>40.759842</td>\n",
              "    </tr>\n",
              "    <tr>\n",
              "      <th>8527331</th>\n",
              "      <td>399DB6E048D813564DA0358503474A2C</td>\n",
              "      <td>3DD545273B93D2553223F296AE0326B3</td>\n",
              "      <td>VTS</td>\n",
              "      <td>1</td>\n",
              "      <td>NaN</td>\n",
              "      <td>2013-01-25 12:53:00</td>\n",
              "      <td>2013-01-25 13:02:00</td>\n",
              "      <td>1</td>\n",
              "      <td>540</td>\n",
              "      <td>1.27</td>\n",
              "      <td>0.000000</td>\n",
              "      <td>1752.05330</td>\n",
              "      <td>-73.976883</td>\n",
              "      <td>40.758568</td>\n",
              "    </tr>\n",
              "    <tr>\n",
              "      <th>5076083</th>\n",
              "      <td>8F9AC72D55F3D4A76211985AB0D7E57C</td>\n",
              "      <td>B0B9918B37A4C7829E6804EC8A0D1919</td>\n",
              "      <td>VTS</td>\n",
              "      <td>1</td>\n",
              "      <td>NaN</td>\n",
              "      <td>2013-01-18 12:08:00</td>\n",
              "      <td>2013-01-18 12:26:00</td>\n",
              "      <td>2</td>\n",
              "      <td>1080</td>\n",
              "      <td>2.59</td>\n",
              "      <td>-40.791805</td>\n",
              "      <td>1705.88050</td>\n",
              "      <td>0.000000</td>\n",
              "      <td>40.783333</td>\n",
              "    </tr>\n",
              "    <tr>\n",
              "      <th>217913</th>\n",
              "      <td>4B5CEF089D5A7504CE3B4B9EE693D37B</td>\n",
              "      <td>AFFE539E140DC16BC1DFABA4D26D7ACA</td>\n",
              "      <td>VTS</td>\n",
              "      <td>1</td>\n",
              "      <td>NaN</td>\n",
              "      <td>2013-01-14 11:10:00</td>\n",
              "      <td>2013-01-14 11:16:00</td>\n",
              "      <td>1</td>\n",
              "      <td>360</td>\n",
              "      <td>1.24</td>\n",
              "      <td>0.000000</td>\n",
              "      <td>1609.20060</td>\n",
              "      <td>-0.105000</td>\n",
              "      <td>4.066667</td>\n",
              "    </tr>\n",
              "    <tr>\n",
              "      <th>9335435</th>\n",
              "      <td>52FD37CE0BB534C5581FC6388F71AF35</td>\n",
              "      <td>D082F47B4F738BADA0CE817040CB745F</td>\n",
              "      <td>VTS</td>\n",
              "      <td>1</td>\n",
              "      <td>NaN</td>\n",
              "      <td>2013-01-22 10:53:00</td>\n",
              "      <td>2013-01-22 11:31:00</td>\n",
              "      <td>5</td>\n",
              "      <td>2280</td>\n",
              "      <td>10.88</td>\n",
              "      <td>-40.774094</td>\n",
              "      <td>1552.53100</td>\n",
              "      <td>-73.981316</td>\n",
              "      <td>40.756165</td>\n",
              "    </tr>\n",
              "    <tr>\n",
              "      <th>8040258</th>\n",
              "      <td>72DB0E4FF718D0E06183644A89241970</td>\n",
              "      <td>2E180EC84EF072BFAF3DD5E3519D2F29</td>\n",
              "      <td>VTS</td>\n",
              "      <td>2</td>\n",
              "      <td>NaN</td>\n",
              "      <td>2013-01-24 07:37:00</td>\n",
              "      <td>2013-01-24 08:23:00</td>\n",
              "      <td>1</td>\n",
              "      <td>2760</td>\n",
              "      <td>17.57</td>\n",
              "      <td>0.000000</td>\n",
              "      <td>1237.10000</td>\n",
              "      <td>-73.968498</td>\n",
              "      <td>40.765045</td>\n",
              "    </tr>\n",
              "    <tr>\n",
              "      <th>13296465</th>\n",
              "      <td>DDC1AE28890B301D015A319435E52E58</td>\n",
              "      <td>1DFA1F8BF6A4AC1AF05712519A01D142</td>\n",
              "      <td>VTS</td>\n",
              "      <td>4</td>\n",
              "      <td>NaN</td>\n",
              "      <td>2013-01-12 15:17:00</td>\n",
              "      <td>2013-01-12 16:59:00</td>\n",
              "      <td>1</td>\n",
              "      <td>6120</td>\n",
              "      <td>23.81</td>\n",
              "      <td>0.000000</td>\n",
              "      <td>804.51843</td>\n",
              "      <td>-73.783585</td>\n",
              "      <td>40.890182</td>\n",
              "    </tr>\n",
              "    <tr>\n",
              "      <th>10077710</th>\n",
              "      <td>A0ACEC39526994497557427CBC1519C4</td>\n",
              "      <td>2678FDCC33D0E3F195B9C36E8A26DA30</td>\n",
              "      <td>VTS</td>\n",
              "      <td>1</td>\n",
              "      <td>NaN</td>\n",
              "      <td>2013-01-29 08:35:00</td>\n",
              "      <td>2013-01-29 08:58:00</td>\n",
              "      <td>6</td>\n",
              "      <td>1380</td>\n",
              "      <td>12.79</td>\n",
              "      <td>0.000000</td>\n",
              "      <td>646.44965</td>\n",
              "      <td>-73.907501</td>\n",
              "      <td>40.910492</td>\n",
              "    </tr>\n",
              "    <tr>\n",
              "      <th>73351</th>\n",
              "      <td>4B5CEF089D5A7504CE3B4B9EE693D37B</td>\n",
              "      <td>251B958CCC730B02C142314BCA7543DE</td>\n",
              "      <td>VTS</td>\n",
              "      <td>1</td>\n",
              "      <td>NaN</td>\n",
              "      <td>2013-01-13 17:10:00</td>\n",
              "      <td>2013-01-13 17:20:00</td>\n",
              "      <td>4</td>\n",
              "      <td>600</td>\n",
              "      <td>2.41</td>\n",
              "      <td>-0.251667</td>\n",
              "      <td>646.43829</td>\n",
              "      <td>-73.974152</td>\n",
              "      <td>40.731144</td>\n",
              "    </tr>\n",
              "    <tr>\n",
              "      <th>5373745</th>\n",
              "      <td>4CBBA37839940ADE243D1B4B2A4583C4</td>\n",
              "      <td>AD8CD3DFC7135B94E4241F0395F06765</td>\n",
              "      <td>VTS</td>\n",
              "      <td>1</td>\n",
              "      <td>NaN</td>\n",
              "      <td>2013-01-19 14:50:00</td>\n",
              "      <td>2013-01-19 14:55:00</td>\n",
              "      <td>1</td>\n",
              "      <td>300</td>\n",
              "      <td>1.15</td>\n",
              "      <td>-0.001667</td>\n",
              "      <td>473.98669</td>\n",
              "      <td>0.000000</td>\n",
              "      <td>0.000000</td>\n",
              "    </tr>\n",
              "    <tr>\n",
              "      <th>1467170</th>\n",
              "      <td>464F6B19DA1B8198DA3B234E5366B6FD</td>\n",
              "      <td>C897D3EA351146C8368FD4FD05D683B3</td>\n",
              "      <td>VTS</td>\n",
              "      <td>1</td>\n",
              "      <td>NaN</td>\n",
              "      <td>2013-01-03 20:06:00</td>\n",
              "      <td>2013-01-03 20:19:00</td>\n",
              "      <td>1</td>\n",
              "      <td>780</td>\n",
              "      <td>2.22</td>\n",
              "      <td>0.000000</td>\n",
              "      <td>473.97794</td>\n",
              "      <td>-74.001038</td>\n",
              "      <td>40.736382</td>\n",
              "    </tr>\n",
              "    <tr>\n",
              "      <th>10471765</th>\n",
              "      <td>D1F675BCC3F249515D9A64CE1B40754A</td>\n",
              "      <td>F787875A4ECC5DD7DCE4A3C05AC5AD5A</td>\n",
              "      <td>VTS</td>\n",
              "      <td>1</td>\n",
              "      <td>NaN</td>\n",
              "      <td>2013-01-30 22:39:00</td>\n",
              "      <td>2013-01-30 22:44:00</td>\n",
              "      <td>6</td>\n",
              "      <td>300</td>\n",
              "      <td>1.87</td>\n",
              "      <td>0.000000</td>\n",
              "      <td>473.96918</td>\n",
              "      <td>-73.953934</td>\n",
              "      <td>40.778896</td>\n",
              "    </tr>\n",
              "    <tr>\n",
              "      <th>743264</th>\n",
              "      <td>266CCA39BBE9D879BB5CF8DEA1B19871</td>\n",
              "      <td>007E686365B4421FB22F8F2FAF21FBC1</td>\n",
              "      <td>VTS</td>\n",
              "      <td>1</td>\n",
              "      <td>NaN</td>\n",
              "      <td>2013-01-16 15:59:00</td>\n",
              "      <td>2013-01-16 16:00:00</td>\n",
              "      <td>5</td>\n",
              "      <td>60</td>\n",
              "      <td>0.43</td>\n",
              "      <td>0.000000</td>\n",
              "      <td>471.30942</td>\n",
              "      <td>-71.308334</td>\n",
              "      <td>41.453693</td>\n",
              "    </tr>\n",
              "    <tr>\n",
              "      <th>12932058</th>\n",
              "      <td>9036E35F54F79381908BA126A118B385</td>\n",
              "      <td>FCA573D9BDC079E5BBB9235BEE5F60FF</td>\n",
              "      <td>VTS</td>\n",
              "      <td>1</td>\n",
              "      <td>NaN</td>\n",
              "      <td>2013-01-11 01:38:00</td>\n",
              "      <td>2013-01-11 01:44:00</td>\n",
              "      <td>1</td>\n",
              "      <td>360</td>\n",
              "      <td>1.63</td>\n",
              "      <td>-0.315000</td>\n",
              "      <td>433.98709</td>\n",
              "      <td>-73.977280</td>\n",
              "      <td>40.745472</td>\n",
              "    </tr>\n",
              "    <tr>\n",
              "      <th>9755091</th>\n",
              "      <td>266CCA39BBE9D879BB5CF8DEA1B19871</td>\n",
              "      <td>007E686365B4421FB22F8F2FAF21FBC1</td>\n",
              "      <td>VTS</td>\n",
              "      <td>1</td>\n",
              "      <td>NaN</td>\n",
              "      <td>2013-01-31 18:42:00</td>\n",
              "      <td>2013-01-31 18:53:00</td>\n",
              "      <td>5</td>\n",
              "      <td>660</td>\n",
              "      <td>1.12</td>\n",
              "      <td>0.000000</td>\n",
              "      <td>413.64999</td>\n",
              "      <td>-71.309425</td>\n",
              "      <td>41.453693</td>\n",
              "    </tr>\n",
              "    <tr>\n",
              "      <th>9704802</th>\n",
              "      <td>B614BA512CDD016F43112A38E82D0141</td>\n",
              "      <td>DFC69E3D6D37956105EABBC5DC4BD422</td>\n",
              "      <td>VTS</td>\n",
              "      <td>1</td>\n",
              "      <td>NaN</td>\n",
              "      <td>2013-01-23 17:06:00</td>\n",
              "      <td>2013-01-23 17:20:00</td>\n",
              "      <td>2</td>\n",
              "      <td>840</td>\n",
              "      <td>2.26</td>\n",
              "      <td>-73.963905</td>\n",
              "      <td>410.35001</td>\n",
              "      <td>-73.984093</td>\n",
              "      <td>40.748737</td>\n",
              "    </tr>\n",
              "    <tr>\n",
              "      <th>9709853</th>\n",
              "      <td>B614BA512CDD016F43112A38E82D0141</td>\n",
              "      <td>DFC69E3D6D37956105EABBC5DC4BD422</td>\n",
              "      <td>VTS</td>\n",
              "      <td>1</td>\n",
              "      <td>NaN</td>\n",
              "      <td>2013-01-23 17:22:00</td>\n",
              "      <td>2013-01-23 17:49:00</td>\n",
              "      <td>1</td>\n",
              "      <td>1620</td>\n",
              "      <td>3.22</td>\n",
              "      <td>-73.963905</td>\n",
              "      <td>410.35001</td>\n",
              "      <td>-74.010712</td>\n",
              "      <td>40.708965</td>\n",
              "    </tr>\n",
              "    <tr>\n",
              "      <th>13269543</th>\n",
              "      <td>18B9F1C434BF374E8F00901720204C18</td>\n",
              "      <td>7E9DC3F94A01629729DFAFF34C9C5E22</td>\n",
              "      <td>VTS</td>\n",
              "      <td>1</td>\n",
              "      <td>NaN</td>\n",
              "      <td>2013-01-12 12:31:00</td>\n",
              "      <td>2013-01-12 12:52:00</td>\n",
              "      <td>1</td>\n",
              "      <td>1260</td>\n",
              "      <td>4.87</td>\n",
              "      <td>-73.992393</td>\n",
              "      <td>408.60001</td>\n",
              "      <td>-73.978661</td>\n",
              "      <td>40.786709</td>\n",
              "    </tr>\n",
              "    <tr>\n",
              "      <th>165139</th>\n",
              "      <td>8F9AC72D55F3D4A76211985AB0D7E57C</td>\n",
              "      <td>B0B9918B37A4C7829E6804EC8A0D1919</td>\n",
              "      <td>VTS</td>\n",
              "      <td>1</td>\n",
              "      <td>NaN</td>\n",
              "      <td>2013-01-14 02:32:00</td>\n",
              "      <td>2013-01-14 02:51:00</td>\n",
              "      <td>1</td>\n",
              "      <td>1140</td>\n",
              "      <td>6.41</td>\n",
              "      <td>0.000000</td>\n",
              "      <td>407.91959</td>\n",
              "      <td>0.000000</td>\n",
              "      <td>40.735199</td>\n",
              "    </tr>\n",
              "    <tr>\n",
              "      <th>8125421</th>\n",
              "      <td>8F9AC72D55F3D4A76211985AB0D7E57C</td>\n",
              "      <td>62AA2B7D98C5D3448CE0C8F9CD70CAA6</td>\n",
              "      <td>VTS</td>\n",
              "      <td>1</td>\n",
              "      <td>NaN</td>\n",
              "      <td>2013-01-23 19:36:00</td>\n",
              "      <td>2013-01-23 19:39:00</td>\n",
              "      <td>1</td>\n",
              "      <td>180</td>\n",
              "      <td>0.91</td>\n",
              "      <td>-73.991470</td>\n",
              "      <td>407.74893</td>\n",
              "      <td>-74.000381</td>\n",
              "      <td>40.737671</td>\n",
              "    </tr>\n",
              "    <tr>\n",
              "      <th>...</th>\n",
              "      <td>...</td>\n",
              "      <td>...</td>\n",
              "      <td>...</td>\n",
              "      <td>...</td>\n",
              "      <td>...</td>\n",
              "      <td>...</td>\n",
              "      <td>...</td>\n",
              "      <td>...</td>\n",
              "      <td>...</td>\n",
              "      <td>...</td>\n",
              "      <td>...</td>\n",
              "      <td>...</td>\n",
              "      <td>...</td>\n",
              "      <td>...</td>\n",
              "    </tr>\n",
              "    <tr>\n",
              "      <th>1148804</th>\n",
              "      <td>D6C88A1D929659923F068E17046036C9</td>\n",
              "      <td>7E1CE80F4748DC65151C6F60F00B5C10</td>\n",
              "      <td>VTS</td>\n",
              "      <td>1</td>\n",
              "      <td>NaN</td>\n",
              "      <td>2013-01-02 10:44:00</td>\n",
              "      <td>2013-01-02 10:52:00</td>\n",
              "      <td>2</td>\n",
              "      <td>480</td>\n",
              "      <td>1.36</td>\n",
              "      <td>-73.971916</td>\n",
              "      <td>-2498.91140</td>\n",
              "      <td>-73.979317</td>\n",
              "      <td>40.744480</td>\n",
              "    </tr>\n",
              "    <tr>\n",
              "      <th>10396561</th>\n",
              "      <td>3B7509562B5CAF1713351D0E0C393739</td>\n",
              "      <td>9441998220B05671D564AEFBBF5AA2B3</td>\n",
              "      <td>VTS</td>\n",
              "      <td>1</td>\n",
              "      <td>NaN</td>\n",
              "      <td>2013-01-30 18:11:00</td>\n",
              "      <td>2013-01-30 18:34:00</td>\n",
              "      <td>5</td>\n",
              "      <td>1380</td>\n",
              "      <td>4.99</td>\n",
              "      <td>0.000000</td>\n",
              "      <td>-2503.02290</td>\n",
              "      <td>0.000000</td>\n",
              "      <td>40.767132</td>\n",
              "    </tr>\n",
              "    <tr>\n",
              "      <th>4863972</th>\n",
              "      <td>464F6B19DA1B8198DA3B234E5366B6FD</td>\n",
              "      <td>C897D3EA351146C8368FD4FD05D683B3</td>\n",
              "      <td>VTS</td>\n",
              "      <td>1</td>\n",
              "      <td>NaN</td>\n",
              "      <td>2013-01-17 16:16:00</td>\n",
              "      <td>2013-01-17 16:51:00</td>\n",
              "      <td>2</td>\n",
              "      <td>2100</td>\n",
              "      <td>5.18</td>\n",
              "      <td>-73.994858</td>\n",
              "      <td>-2508.94730</td>\n",
              "      <td>0.000000</td>\n",
              "      <td>40.789406</td>\n",
              "    </tr>\n",
              "    <tr>\n",
              "      <th>8219279</th>\n",
              "      <td>DA5F8C2096B5D8C926B46BB0B7D64E7F</td>\n",
              "      <td>1CA934F990FB39ABE2A0FA14AFD7BBBA</td>\n",
              "      <td>VTS</td>\n",
              "      <td>1</td>\n",
              "      <td>NaN</td>\n",
              "      <td>2013-01-24 18:20:00</td>\n",
              "      <td>2013-01-24 18:24:00</td>\n",
              "      <td>1</td>\n",
              "      <td>240</td>\n",
              "      <td>0.66</td>\n",
              "      <td>0.000000</td>\n",
              "      <td>-2875.68600</td>\n",
              "      <td>-73.982269</td>\n",
              "      <td>40.769981</td>\n",
              "    </tr>\n",
              "    <tr>\n",
              "      <th>12660237</th>\n",
              "      <td>B033651ECD367CC8CB7AB8A133959F4C</td>\n",
              "      <td>42B43B0FEC61B3D19B3373DEE3F0386E</td>\n",
              "      <td>VTS</td>\n",
              "      <td>1</td>\n",
              "      <td>NaN</td>\n",
              "      <td>2013-01-09 23:03:00</td>\n",
              "      <td>2013-01-09 23:22:00</td>\n",
              "      <td>1</td>\n",
              "      <td>1140</td>\n",
              "      <td>3.14</td>\n",
              "      <td>0.000000</td>\n",
              "      <td>-3074.30540</td>\n",
              "      <td>-73.963844</td>\n",
              "      <td>40.682911</td>\n",
              "    </tr>\n",
              "    <tr>\n",
              "      <th>12780963</th>\n",
              "      <td>1E4F223A103DF1EC0335E26FC90B8069</td>\n",
              "      <td>5C0F75078EAD95802A8D90E72009E107</td>\n",
              "      <td>VTS</td>\n",
              "      <td>1</td>\n",
              "      <td>NaN</td>\n",
              "      <td>2013-01-10 10:30:00</td>\n",
              "      <td>2013-01-10 10:38:00</td>\n",
              "      <td>1</td>\n",
              "      <td>480</td>\n",
              "      <td>0.81</td>\n",
              "      <td>0.000000</td>\n",
              "      <td>-3084.26390</td>\n",
              "      <td>-74.008369</td>\n",
              "      <td>40.711475</td>\n",
              "    </tr>\n",
              "    <tr>\n",
              "      <th>12090199</th>\n",
              "      <td>D1F675BCC3F249515D9A64CE1B40754A</td>\n",
              "      <td>4CFF5001E62EA3C42272CF90DA57B4C2</td>\n",
              "      <td>VTS</td>\n",
              "      <td>1</td>\n",
              "      <td>NaN</td>\n",
              "      <td>2013-01-07 11:24:00</td>\n",
              "      <td>2013-01-07 11:36:00</td>\n",
              "      <td>1</td>\n",
              "      <td>720</td>\n",
              "      <td>1.83</td>\n",
              "      <td>0.000000</td>\n",
              "      <td>-3084.27120</td>\n",
              "      <td>-73.987045</td>\n",
              "      <td>40.756638</td>\n",
              "    </tr>\n",
              "    <tr>\n",
              "      <th>12761613</th>\n",
              "      <td>4B5CEF089D5A7504CE3B4B9EE693D37B</td>\n",
              "      <td>AFFE539E140DC16BC1DFABA4D26D7ACA</td>\n",
              "      <td>VTS</td>\n",
              "      <td>1</td>\n",
              "      <td>NaN</td>\n",
              "      <td>2013-01-10 10:42:00</td>\n",
              "      <td>2013-01-10 10:56:00</td>\n",
              "      <td>1</td>\n",
              "      <td>840</td>\n",
              "      <td>2.09</td>\n",
              "      <td>-0.120000</td>\n",
              "      <td>-3084.27780</td>\n",
              "      <td>-73.976669</td>\n",
              "      <td>40.753922</td>\n",
              "    </tr>\n",
              "    <tr>\n",
              "      <th>447975</th>\n",
              "      <td>4B5CEF089D5A7504CE3B4B9EE693D37B</td>\n",
              "      <td>251B958CCC730B02C142314BCA7543DE</td>\n",
              "      <td>VTS</td>\n",
              "      <td>1</td>\n",
              "      <td>NaN</td>\n",
              "      <td>2013-01-15 09:24:00</td>\n",
              "      <td>2013-01-15 09:36:00</td>\n",
              "      <td>4</td>\n",
              "      <td>720</td>\n",
              "      <td>3.49</td>\n",
              "      <td>-0.001667</td>\n",
              "      <td>-3084.31400</td>\n",
              "      <td>-73.907684</td>\n",
              "      <td>40.753174</td>\n",
              "    </tr>\n",
              "    <tr>\n",
              "      <th>466891</th>\n",
              "      <td>C751E707D7D20AA0761EE82793EFC6BD</td>\n",
              "      <td>F827C2C9619C54162001D91946B1C91B</td>\n",
              "      <td>VTS</td>\n",
              "      <td>1</td>\n",
              "      <td>NaN</td>\n",
              "      <td>2013-01-15 11:30:00</td>\n",
              "      <td>2013-01-15 11:39:00</td>\n",
              "      <td>1</td>\n",
              "      <td>540</td>\n",
              "      <td>1.65</td>\n",
              "      <td>0.000000</td>\n",
              "      <td>-3111.29710</td>\n",
              "      <td>-73.965050</td>\n",
              "      <td>40.772335</td>\n",
              "    </tr>\n",
              "    <tr>\n",
              "      <th>5092081</th>\n",
              "      <td>3B7509562B5CAF1713351D0E0C393739</td>\n",
              "      <td>46925C3CD9127068579C796B01DA562C</td>\n",
              "      <td>VTS</td>\n",
              "      <td>1</td>\n",
              "      <td>NaN</td>\n",
              "      <td>2013-01-18 14:11:00</td>\n",
              "      <td>2013-01-18 14:18:00</td>\n",
              "      <td>6</td>\n",
              "      <td>420</td>\n",
              "      <td>1.35</td>\n",
              "      <td>0.000000</td>\n",
              "      <td>-3111.70730</td>\n",
              "      <td>-73.952705</td>\n",
              "      <td>40.780895</td>\n",
              "    </tr>\n",
              "    <tr>\n",
              "      <th>174947</th>\n",
              "      <td>E78A6A9B856A91C5E62622B9C73ADEF8</td>\n",
              "      <td>EA610693880873356FC65AD9FA286A1D</td>\n",
              "      <td>VTS</td>\n",
              "      <td>1</td>\n",
              "      <td>NaN</td>\n",
              "      <td>2013-01-14 06:49:00</td>\n",
              "      <td>2013-01-14 06:56:00</td>\n",
              "      <td>1</td>\n",
              "      <td>420</td>\n",
              "      <td>1.39</td>\n",
              "      <td>0.000000</td>\n",
              "      <td>-3112.28390</td>\n",
              "      <td>-73.978813</td>\n",
              "      <td>40.754047</td>\n",
              "    </tr>\n",
              "    <tr>\n",
              "      <th>9283046</th>\n",
              "      <td>485660759C8E1F423366B5FB8963E8E4</td>\n",
              "      <td>AF20C13ECF753FBA8408E6BD8A34CE8F</td>\n",
              "      <td>VTS</td>\n",
              "      <td>1</td>\n",
              "      <td>NaN</td>\n",
              "      <td>2013-01-27 21:59:00</td>\n",
              "      <td>2013-01-27 22:05:00</td>\n",
              "      <td>1</td>\n",
              "      <td>360</td>\n",
              "      <td>1.72</td>\n",
              "      <td>0.000000</td>\n",
              "      <td>-3112.28880</td>\n",
              "      <td>-73.974251</td>\n",
              "      <td>40.762230</td>\n",
              "    </tr>\n",
              "    <tr>\n",
              "      <th>505943</th>\n",
              "      <td>464F6B19DA1B8198DA3B234E5366B6FD</td>\n",
              "      <td>C897D3EA351146C8368FD4FD05D683B3</td>\n",
              "      <td>VTS</td>\n",
              "      <td>1</td>\n",
              "      <td>NaN</td>\n",
              "      <td>2013-01-15 16:08:00</td>\n",
              "      <td>2013-01-15 16:11:00</td>\n",
              "      <td>3</td>\n",
              "      <td>180</td>\n",
              "      <td>0.40</td>\n",
              "      <td>0.000000</td>\n",
              "      <td>-3112.29270</td>\n",
              "      <td>-73.980164</td>\n",
              "      <td>40.760563</td>\n",
              "    </tr>\n",
              "    <tr>\n",
              "      <th>8502163</th>\n",
              "      <td>9036E35F54F79381908BA126A118B385</td>\n",
              "      <td>A8051E36A847058C747429CB4FE16197</td>\n",
              "      <td>VTS</td>\n",
              "      <td>1</td>\n",
              "      <td>NaN</td>\n",
              "      <td>2013-01-25 10:40:00</td>\n",
              "      <td>2013-01-25 10:55:00</td>\n",
              "      <td>1</td>\n",
              "      <td>900</td>\n",
              "      <td>2.46</td>\n",
              "      <td>0.000000</td>\n",
              "      <td>-3112.29740</td>\n",
              "      <td>-74.007034</td>\n",
              "      <td>40.741573</td>\n",
              "    </tr>\n",
              "    <tr>\n",
              "      <th>10086031</th>\n",
              "      <td>0C4726D4E2AF94BF8FE2D23EFDA20917</td>\n",
              "      <td>42CC3A49C66FA772567BBAB7F85F8835</td>\n",
              "      <td>VTS</td>\n",
              "      <td>1</td>\n",
              "      <td>NaN</td>\n",
              "      <td>2013-01-29 09:45:00</td>\n",
              "      <td>2013-01-29 09:57:00</td>\n",
              "      <td>1</td>\n",
              "      <td>720</td>\n",
              "      <td>1.36</td>\n",
              "      <td>-73.992210</td>\n",
              "      <td>-3112.52470</td>\n",
              "      <td>-73.976311</td>\n",
              "      <td>40.757866</td>\n",
              "    </tr>\n",
              "    <tr>\n",
              "      <th>12518409</th>\n",
              "      <td>09D55C8D44BFE1835210343816476457</td>\n",
              "      <td>CF2A099B4332362CC0F2B7BA22D6E941</td>\n",
              "      <td>VTS</td>\n",
              "      <td>1</td>\n",
              "      <td>NaN</td>\n",
              "      <td>2013-01-09 10:19:00</td>\n",
              "      <td>2013-01-09 10:30:00</td>\n",
              "      <td>3</td>\n",
              "      <td>660</td>\n",
              "      <td>1.59</td>\n",
              "      <td>0.000000</td>\n",
              "      <td>-3112.70870</td>\n",
              "      <td>-73.960152</td>\n",
              "      <td>40.771091</td>\n",
              "    </tr>\n",
              "    <tr>\n",
              "      <th>13347017</th>\n",
              "      <td>8F9AC72D55F3D4A76211985AB0D7E57C</td>\n",
              "      <td>769A127B60B57CEEB9358F4D4D32B322</td>\n",
              "      <td>VTS</td>\n",
              "      <td>1</td>\n",
              "      <td>NaN</td>\n",
              "      <td>2013-01-12 18:30:00</td>\n",
              "      <td>2013-01-12 18:46:00</td>\n",
              "      <td>1</td>\n",
              "      <td>960</td>\n",
              "      <td>4.67</td>\n",
              "      <td>0.000000</td>\n",
              "      <td>-3114.26460</td>\n",
              "      <td>-74.013336</td>\n",
              "      <td>40.704918</td>\n",
              "    </tr>\n",
              "    <tr>\n",
              "      <th>13059371</th>\n",
              "      <td>5E24B34F69DA2D00BB5CD59D021A046A</td>\n",
              "      <td>7C196392F39EC348F0F6ABAB6D86B622</td>\n",
              "      <td>VTS</td>\n",
              "      <td>1</td>\n",
              "      <td>NaN</td>\n",
              "      <td>2013-01-11 09:01:00</td>\n",
              "      <td>2013-01-11 09:18:00</td>\n",
              "      <td>5</td>\n",
              "      <td>1020</td>\n",
              "      <td>3.63</td>\n",
              "      <td>-0.010000</td>\n",
              "      <td>-3114.28320</td>\n",
              "      <td>-74.013885</td>\n",
              "      <td>40.714542</td>\n",
              "    </tr>\n",
              "    <tr>\n",
              "      <th>4954103</th>\n",
              "      <td>8F9AC72D55F3D4A76211985AB0D7E57C</td>\n",
              "      <td>769A127B60B57CEEB9358F4D4D32B322</td>\n",
              "      <td>VTS</td>\n",
              "      <td>1</td>\n",
              "      <td>NaN</td>\n",
              "      <td>2013-01-17 22:26:00</td>\n",
              "      <td>2013-01-17 22:42:00</td>\n",
              "      <td>1</td>\n",
              "      <td>960</td>\n",
              "      <td>4.32</td>\n",
              "      <td>0.000000</td>\n",
              "      <td>-3114.29220</td>\n",
              "      <td>-73.986496</td>\n",
              "      <td>40.695797</td>\n",
              "    </tr>\n",
              "    <tr>\n",
              "      <th>4951198</th>\n",
              "      <td>8F9AC72D55F3D4A76211985AB0D7E57C</td>\n",
              "      <td>769A127B60B57CEEB9358F4D4D32B322</td>\n",
              "      <td>VTS</td>\n",
              "      <td>1</td>\n",
              "      <td>NaN</td>\n",
              "      <td>2013-01-17 22:12:00</td>\n",
              "      <td>2013-01-17 22:17:00</td>\n",
              "      <td>1</td>\n",
              "      <td>300</td>\n",
              "      <td>1.31</td>\n",
              "      <td>0.000000</td>\n",
              "      <td>-3114.29220</td>\n",
              "      <td>0.000000</td>\n",
              "      <td>-3114.292200</td>\n",
              "    </tr>\n",
              "    <tr>\n",
              "      <th>4919560</th>\n",
              "      <td>DE593447492C1AA6BE74307BD1AF0415</td>\n",
              "      <td>1934D4648784F002CA92137F4B542F0D</td>\n",
              "      <td>VTS</td>\n",
              "      <td>1</td>\n",
              "      <td>NaN</td>\n",
              "      <td>2013-01-17 20:08:00</td>\n",
              "      <td>2013-01-17 20:36:00</td>\n",
              "      <td>1</td>\n",
              "      <td>1680</td>\n",
              "      <td>7.95</td>\n",
              "      <td>0.000000</td>\n",
              "      <td>-3114.29490</td>\n",
              "      <td>0.000000</td>\n",
              "      <td>40.755344</td>\n",
              "    </tr>\n",
              "    <tr>\n",
              "      <th>187253</th>\n",
              "      <td>D81656B37E3491C6C40169603CD196DC</td>\n",
              "      <td>B5C853F762C0EEF366285663ECD6D07E</td>\n",
              "      <td>VTS</td>\n",
              "      <td>1</td>\n",
              "      <td>NaN</td>\n",
              "      <td>2013-01-14 08:28:00</td>\n",
              "      <td>2013-01-14 08:40:00</td>\n",
              "      <td>4</td>\n",
              "      <td>720</td>\n",
              "      <td>1.44</td>\n",
              "      <td>-0.228333</td>\n",
              "      <td>-3114.31570</td>\n",
              "      <td>-73.979965</td>\n",
              "      <td>40.759575</td>\n",
              "    </tr>\n",
              "    <tr>\n",
              "      <th>4842258</th>\n",
              "      <td>8F9AC72D55F3D4A76211985AB0D7E57C</td>\n",
              "      <td>B0B9918B37A4C7829E6804EC8A0D1919</td>\n",
              "      <td>VTS</td>\n",
              "      <td>1</td>\n",
              "      <td>NaN</td>\n",
              "      <td>2013-01-17 12:16:00</td>\n",
              "      <td>2013-01-17 12:43:00</td>\n",
              "      <td>1</td>\n",
              "      <td>1620</td>\n",
              "      <td>8.74</td>\n",
              "      <td>0.000000</td>\n",
              "      <td>-3115.27370</td>\n",
              "      <td>-74.005180</td>\n",
              "      <td>40.723087</td>\n",
              "    </tr>\n",
              "    <tr>\n",
              "      <th>12380902</th>\n",
              "      <td>8D1BB91A5D5D7BE4BEDFF23F2DEFD026</td>\n",
              "      <td>4AF51CFB6625EF4B2F3D28F887831D0C</td>\n",
              "      <td>VTS</td>\n",
              "      <td>1</td>\n",
              "      <td>NaN</td>\n",
              "      <td>2013-01-08 15:42:00</td>\n",
              "      <td>2013-01-08 16:55:00</td>\n",
              "      <td>5</td>\n",
              "      <td>4380</td>\n",
              "      <td>16.94</td>\n",
              "      <td>-73.789238</td>\n",
              "      <td>-3127.63700</td>\n",
              "      <td>-74.022049</td>\n",
              "      <td>40.634789</td>\n",
              "    </tr>\n",
              "    <tr>\n",
              "      <th>13029414</th>\n",
              "      <td>18DDC049CC26AE3AABB4C08C59374EFB</td>\n",
              "      <td>AC84FF92E565ADC298CBDF5EFEB60B3F</td>\n",
              "      <td>VTS</td>\n",
              "      <td>1</td>\n",
              "      <td>NaN</td>\n",
              "      <td>2013-01-11 10:25:00</td>\n",
              "      <td>2013-01-11 10:31:00</td>\n",
              "      <td>1</td>\n",
              "      <td>360</td>\n",
              "      <td>1.33</td>\n",
              "      <td>-73.958916</td>\n",
              "      <td>-3181.07810</td>\n",
              "      <td>-73.959412</td>\n",
              "      <td>40.800980</td>\n",
              "    </tr>\n",
              "    <tr>\n",
              "      <th>5100696</th>\n",
              "      <td>E78A6A9B856A91C5E62622B9C73ADEF8</td>\n",
              "      <td>EA610693880873356FC65AD9FA286A1D</td>\n",
              "      <td>VTS</td>\n",
              "      <td>1</td>\n",
              "      <td>NaN</td>\n",
              "      <td>2013-01-18 13:04:00</td>\n",
              "      <td>2013-01-18 13:14:00</td>\n",
              "      <td>1</td>\n",
              "      <td>600</td>\n",
              "      <td>1.62</td>\n",
              "      <td>-0.016667</td>\n",
              "      <td>-3447.91670</td>\n",
              "      <td>-73.960732</td>\n",
              "      <td>40.779251</td>\n",
              "    </tr>\n",
              "    <tr>\n",
              "      <th>2169374</th>\n",
              "      <td>8F9AC72D55F3D4A76211985AB0D7E57C</td>\n",
              "      <td>B0B9918B37A4C7829E6804EC8A0D1919</td>\n",
              "      <td>VTS</td>\n",
              "      <td>1</td>\n",
              "      <td>NaN</td>\n",
              "      <td>2013-01-06 19:28:00</td>\n",
              "      <td>2013-01-06 19:32:00</td>\n",
              "      <td>2</td>\n",
              "      <td>240</td>\n",
              "      <td>0.82</td>\n",
              "      <td>0.000000</td>\n",
              "      <td>-3447.91770</td>\n",
              "      <td>-73.982101</td>\n",
              "      <td>40.753284</td>\n",
              "    </tr>\n",
              "    <tr>\n",
              "      <th>13314088</th>\n",
              "      <td>4B5CEF089D5A7504CE3B4B9EE693D37B</td>\n",
              "      <td>AFFE539E140DC16BC1DFABA4D26D7ACA</td>\n",
              "      <td>VTS</td>\n",
              "      <td>1</td>\n",
              "      <td>NaN</td>\n",
              "      <td>2013-01-12 17:43:00</td>\n",
              "      <td>2013-01-12 17:48:00</td>\n",
              "      <td>2</td>\n",
              "      <td>300</td>\n",
              "      <td>0.41</td>\n",
              "      <td>-0.001667</td>\n",
              "      <td>-3447.91970</td>\n",
              "      <td>0.000000</td>\n",
              "      <td>0.000000</td>\n",
              "    </tr>\n",
              "    <tr>\n",
              "      <th>13098263</th>\n",
              "      <td>DE593447492C1AA6BE74307BD1AF0415</td>\n",
              "      <td>1934D4648784F002CA92137F4B542F0D</td>\n",
              "      <td>VTS</td>\n",
              "      <td>1</td>\n",
              "      <td>NaN</td>\n",
              "      <td>2013-01-11 16:45:00</td>\n",
              "      <td>2013-01-11 16:56:00</td>\n",
              "      <td>1</td>\n",
              "      <td>660</td>\n",
              "      <td>1.35</td>\n",
              "      <td>0.000000</td>\n",
              "      <td>-3547.92070</td>\n",
              "      <td>-73.966667</td>\n",
              "      <td>40.745617</td>\n",
              "    </tr>\n",
              "  </tbody>\n",
              "</table>\n",
              "<p>14693174 rows × 14 columns</p>\n",
              "</div>"
            ],
            "text/plain": [
              "                                 medallion  ... dropoff_latitude\n",
              "13408731  562396B7694D3EA5D60B669D6DD28509  ...        40.738403\n",
              "12418867  A0ACEC39526994497557427CBC1519C4  ...        40.778934\n",
              "12899672  1E4F223A103DF1EC0335E26FC90B8069  ...        40.689754\n",
              "13061041  E78A6A9B856A91C5E62622B9C73ADEF8  ...        40.786900\n",
              "4967763   C7A97F6BFA4DD801F8672370C891D2FF  ...         0.000000\n",
              "8588611   426B611FA1FC0E3B0196C165835A9523  ...        40.790108\n",
              "1678540   52FD37CE0BB534C5581FC6388F71AF35  ...        40.740883\n",
              "9231087   8C63EAF81CF0E0082DEF0093F80DBA54  ...        40.685261\n",
              "12803079  562396B7694D3EA5D60B669D6DD28509  ...        40.682617\n",
              "13064638  266CCA39BBE9D879BB5CF8DEA1B19871  ...        41.453667\n",
              "10634459  D6C88A1D929659923F068E17046036C9  ...        40.759842\n",
              "8527331   399DB6E048D813564DA0358503474A2C  ...        40.758568\n",
              "5076083   8F9AC72D55F3D4A76211985AB0D7E57C  ...        40.783333\n",
              "217913    4B5CEF089D5A7504CE3B4B9EE693D37B  ...         4.066667\n",
              "9335435   52FD37CE0BB534C5581FC6388F71AF35  ...        40.756165\n",
              "8040258   72DB0E4FF718D0E06183644A89241970  ...        40.765045\n",
              "13296465  DDC1AE28890B301D015A319435E52E58  ...        40.890182\n",
              "10077710  A0ACEC39526994497557427CBC1519C4  ...        40.910492\n",
              "73351     4B5CEF089D5A7504CE3B4B9EE693D37B  ...        40.731144\n",
              "5373745   4CBBA37839940ADE243D1B4B2A4583C4  ...         0.000000\n",
              "1467170   464F6B19DA1B8198DA3B234E5366B6FD  ...        40.736382\n",
              "10471765  D1F675BCC3F249515D9A64CE1B40754A  ...        40.778896\n",
              "743264    266CCA39BBE9D879BB5CF8DEA1B19871  ...        41.453693\n",
              "12932058  9036E35F54F79381908BA126A118B385  ...        40.745472\n",
              "9755091   266CCA39BBE9D879BB5CF8DEA1B19871  ...        41.453693\n",
              "9704802   B614BA512CDD016F43112A38E82D0141  ...        40.748737\n",
              "9709853   B614BA512CDD016F43112A38E82D0141  ...        40.708965\n",
              "13269543  18B9F1C434BF374E8F00901720204C18  ...        40.786709\n",
              "165139    8F9AC72D55F3D4A76211985AB0D7E57C  ...        40.735199\n",
              "8125421   8F9AC72D55F3D4A76211985AB0D7E57C  ...        40.737671\n",
              "...                                    ...  ...              ...\n",
              "1148804   D6C88A1D929659923F068E17046036C9  ...        40.744480\n",
              "10396561  3B7509562B5CAF1713351D0E0C393739  ...        40.767132\n",
              "4863972   464F6B19DA1B8198DA3B234E5366B6FD  ...        40.789406\n",
              "8219279   DA5F8C2096B5D8C926B46BB0B7D64E7F  ...        40.769981\n",
              "12660237  B033651ECD367CC8CB7AB8A133959F4C  ...        40.682911\n",
              "12780963  1E4F223A103DF1EC0335E26FC90B8069  ...        40.711475\n",
              "12090199  D1F675BCC3F249515D9A64CE1B40754A  ...        40.756638\n",
              "12761613  4B5CEF089D5A7504CE3B4B9EE693D37B  ...        40.753922\n",
              "447975    4B5CEF089D5A7504CE3B4B9EE693D37B  ...        40.753174\n",
              "466891    C751E707D7D20AA0761EE82793EFC6BD  ...        40.772335\n",
              "5092081   3B7509562B5CAF1713351D0E0C393739  ...        40.780895\n",
              "174947    E78A6A9B856A91C5E62622B9C73ADEF8  ...        40.754047\n",
              "9283046   485660759C8E1F423366B5FB8963E8E4  ...        40.762230\n",
              "505943    464F6B19DA1B8198DA3B234E5366B6FD  ...        40.760563\n",
              "8502163   9036E35F54F79381908BA126A118B385  ...        40.741573\n",
              "10086031  0C4726D4E2AF94BF8FE2D23EFDA20917  ...        40.757866\n",
              "12518409  09D55C8D44BFE1835210343816476457  ...        40.771091\n",
              "13347017  8F9AC72D55F3D4A76211985AB0D7E57C  ...        40.704918\n",
              "13059371  5E24B34F69DA2D00BB5CD59D021A046A  ...        40.714542\n",
              "4954103   8F9AC72D55F3D4A76211985AB0D7E57C  ...        40.695797\n",
              "4951198   8F9AC72D55F3D4A76211985AB0D7E57C  ...     -3114.292200\n",
              "4919560   DE593447492C1AA6BE74307BD1AF0415  ...        40.755344\n",
              "187253    D81656B37E3491C6C40169603CD196DC  ...        40.759575\n",
              "4842258   8F9AC72D55F3D4A76211985AB0D7E57C  ...        40.723087\n",
              "12380902  8D1BB91A5D5D7BE4BEDFF23F2DEFD026  ...        40.634789\n",
              "13029414  18DDC049CC26AE3AABB4C08C59374EFB  ...        40.800980\n",
              "5100696   E78A6A9B856A91C5E62622B9C73ADEF8  ...        40.779251\n",
              "2169374   8F9AC72D55F3D4A76211985AB0D7E57C  ...        40.753284\n",
              "13314088  4B5CEF089D5A7504CE3B4B9EE693D37B  ...         0.000000\n",
              "13098263  DE593447492C1AA6BE74307BD1AF0415  ...        40.745617\n",
              "\n",
              "[14693174 rows x 14 columns]"
            ]
          },
          "metadata": {
            "tags": []
          },
          "execution_count": 41
        }
      ]
    },
    {
      "cell_type": "code",
      "metadata": {
        "id": "h_vEcSlT3260",
        "colab_type": "code",
        "colab": {}
      },
      "source": [
        "x_range, y_range = (-8242000,-8210000), (4965000,4990000)"
      ],
      "execution_count": 0,
      "outputs": []
    },
    {
      "cell_type": "code",
      "metadata": {
        "id": "NX5OFdNcjT4h",
        "colab_type": "code",
        "colab": {}
      },
      "source": [
        "df?"
      ],
      "execution_count": 0,
      "outputs": []
    },
    {
      "cell_type": "code",
      "metadata": {
        "id": "UXN_OYhmkJQw",
        "colab_type": "code",
        "outputId": "e2483aee-f854-4952-a6b6-f8cbb406bc0f",
        "colab": {
          "base_uri": "https://localhost:8080/",
          "height": 34
        }
      },
      "source": [
        "type(x_range)"
      ],
      "execution_count": 0,
      "outputs": [
        {
          "output_type": "execute_result",
          "data": {
            "text/plain": [
              "tuple"
            ]
          },
          "metadata": {
            "tags": []
          },
          "execution_count": 4
        }
      ]
    },
    {
      "cell_type": "code",
      "metadata": {
        "id": "iuTMLnWSkOIS",
        "colab_type": "code",
        "colab": {}
      },
      "source": [
        ""
      ],
      "execution_count": 0,
      "outputs": []
    }
  ]
}